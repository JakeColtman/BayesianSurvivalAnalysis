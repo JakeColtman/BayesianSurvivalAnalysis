{
 "cells": [
  {
   "cell_type": "code",
   "execution_count": 6,
   "metadata": {
    "collapsed": false
   },
   "outputs": [],
   "source": [
    "import pymc as mc\n",
    "import numpy as np\n",
    "import numpy.ma as ma\n",
    "N = 3000\n",
    "#create some artificial data, like the data in the figure above. \n",
    "lifetime = mc.rweibull( 2, 5, size = N ) \n",
    "birth = mc.runiform(0, 10, N)\n",
    "\n",
    "censor = (birth + lifetime) > 10 #an individual is right-censored if this is True \n",
    "lifetime_ = np.ma.masked_array( lifetime, censor ) #create the censorship event. \n",
    "lifetime_.set_fill_value( 10 ) #good for computations later."
   ]
  },
  {
   "cell_type": "code",
   "execution_count": 7,
   "metadata": {
    "collapsed": false
   },
   "outputs": [
    {
     "data": {
      "text/plain": [
       "masked_array(data = [4.6677890715477215 -- 6.87163860635148 2.2968337471584315 --\n",
       " 2.5563214845930076 5.47928438094956 -- 3.3276711637868917\n",
       " 1.8030722842868065 -- 6.014444030877853 -- 2.538209865100129\n",
       " 1.9689474407100782 -- -- 4.1463997424619095 -- -- -- -- -- -- --\n",
       " 1.1173598807768839 -- 1.9988792029705387 -- 2.758446496447695\n",
       " 8.286238956229505 -- -- -- 1.978660746214995 1.8969717591109716\n",
       " 3.285967257230929 4.42777209758302 -- 2.104435804329948 2.229350368725095\n",
       " -- 2.902033623323978 2.8743748814080594 4.548787525698634 --\n",
       " 1.6759006690543252 -- -- 4.54620865333014 5.415980371581806\n",
       " 6.266854044165019 -- -- 7.37177458977044 2.545152643747292 -- --\n",
       " 2.8292766718815465 4.225565782975995 0.7383465770340326 -- -- --\n",
       " 5.576749181024875 -- -- 2.811606874779983 5.043220142983811\n",
       " 2.2328694928537827 -- 3.843641780250481 2.2101365456722015\n",
       " 3.807668630452098 -- 4.526496152602451 -- -- 3.4866261176905793 --\n",
       " 4.631332340449155 -- 2.7345866001206747 -- 1.4625561266772475\n",
       " 2.691256711600005 -- 6.795031648887491 -- -- 1.7657523575550813 --\n",
       " 5.505195314030297 3.968061299336552 2.7950576673599263 1.862936350102953\n",
       " -- 1.4454381493002788 4.956633943408294 0.992932594777579],\n",
       "             mask = [False  True False ..., False False False],\n",
       "       fill_value = 10.0)"
      ]
     },
     "execution_count": 7,
     "metadata": {},
     "output_type": "execute_result"
    }
   ],
   "source": [
    "lifetime_"
   ]
  },
  {
   "cell_type": "code",
   "execution_count": null,
   "metadata": {
    "collapsed": true
   },
   "outputs": [],
   "source": []
  }
 ],
 "metadata": {
  "kernelspec": {
   "display_name": "Python 3",
   "language": "python",
   "name": "python3"
  },
  "language_info": {
   "codemirror_mode": {
    "name": "ipython",
    "version": 3
   },
   "file_extension": ".py",
   "mimetype": "text/x-python",
   "name": "python",
   "nbconvert_exporter": "python",
   "pygments_lexer": "ipython3",
   "version": "3.5.1"
  }
 },
 "nbformat": 4,
 "nbformat_minor": 0
}
