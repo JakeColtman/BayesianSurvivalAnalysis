{
 "cells": [
  {
   "cell_type": "code",
   "execution_count": 1,
   "metadata": {
    "collapsed": true
   },
   "outputs": [],
   "source": [
    "import lifelines\n",
    "import pymc as pm\n",
    "import pyBMA\n",
    "import matplotlib.pyplot as plt\n",
    "import numpy as np\n",
    "from math import log\n",
    "from datetime import datetime\n",
    "import pandas as pd\n",
    "%matplotlib inline  "
   ]
  },
  {
   "cell_type": "markdown",
   "metadata": {},
   "source": [
    "The first step in any data analysis is acquiring and munging the data\n",
    "\n",
    "An example data set can be found at:\n",
    "   https://jakecoltman.gitlab.io/website/post/pydata/\n",
    "\n",
    "Download the file output.txt and transform it into a format like below where the event column should be 0 if there's only one entry for an id, and 1 if there are two entries:\n",
    "\n",
    "End date = datetime.datetime(2016, 5, 3, 20, 36, 8, 92165)\n",
    "\n",
    "id,time_to_convert,age,male,event,search,brand"
   ]
  },
  {
   "cell_type": "code",
   "execution_count": 10,
   "metadata": {
    "collapsed": false
   },
   "outputs": [],
   "source": [
    "running_id = 0\n",
    "output = [[0]]\n",
    "with open(\"E:/output.txt\") as file_open:\n",
    "    for row in file_open.read().split(\"\\n\"):\n",
    "        cols = row.split(\",\")\n",
    "        if cols[0] == output[-1][0]:\n",
    "            output[-1].append(cols[1])\n",
    "            output[-1].append(True)\n",
    "        else:\n",
    "            output.append(cols)\n",
    "    output = output[1:]\n",
    "    \n",
    "for row in output:\n",
    "    if len(row) == 6:\n",
    "        row += [datetime(2016, 5, 3, 20, 36, 8, 92165), False]\n",
    "output = output[1:-1]"
   ]
  },
  {
   "cell_type": "code",
   "execution_count": 13,
   "metadata": {
    "collapsed": false
   },
   "outputs": [
    {
     "data": {
      "text/html": [
       "<div>\n",
       "<table border=\"1\" class=\"dataframe\">\n",
       "  <thead>\n",
       "    <tr style=\"text-align: right;\">\n",
       "      <th></th>\n",
       "      <th>male</th>\n",
       "      <th>age</th>\n",
       "      <th>search</th>\n",
       "      <th>brand</th>\n",
       "      <th>event</th>\n",
       "      <th>lifetime</th>\n",
       "    </tr>\n",
       "    <tr>\n",
       "      <th>id</th>\n",
       "      <th></th>\n",
       "      <th></th>\n",
       "      <th></th>\n",
       "      <th></th>\n",
       "      <th></th>\n",
       "      <th></th>\n",
       "    </tr>\n",
       "  </thead>\n",
       "  <tbody>\n",
       "    <tr>\n",
       "      <th>1</th>\n",
       "      <td>0</td>\n",
       "      <td>59</td>\n",
       "      <td>1</td>\n",
       "      <td>1</td>\n",
       "      <td>0</td>\n",
       "      <td>18.358052</td>\n",
       "    </tr>\n",
       "    <tr>\n",
       "      <th>2</th>\n",
       "      <td>0</td>\n",
       "      <td>41</td>\n",
       "      <td>0</td>\n",
       "      <td>0</td>\n",
       "      <td>0</td>\n",
       "      <td>19.613458</td>\n",
       "    </tr>\n",
       "    <tr>\n",
       "      <th>3</th>\n",
       "      <td>0</td>\n",
       "      <td>56</td>\n",
       "      <td>0</td>\n",
       "      <td>1</td>\n",
       "      <td>1</td>\n",
       "      <td>10.007883</td>\n",
       "    </tr>\n",
       "    <tr>\n",
       "      <th>4</th>\n",
       "      <td>0</td>\n",
       "      <td>47</td>\n",
       "      <td>0</td>\n",
       "      <td>0</td>\n",
       "      <td>1</td>\n",
       "      <td>11.601139</td>\n",
       "    </tr>\n",
       "    <tr>\n",
       "      <th>5</th>\n",
       "      <td>1</td>\n",
       "      <td>44</td>\n",
       "      <td>1</td>\n",
       "      <td>0</td>\n",
       "      <td>1</td>\n",
       "      <td>11.815086</td>\n",
       "    </tr>\n",
       "    <tr>\n",
       "      <th>6</th>\n",
       "      <td>1</td>\n",
       "      <td>29</td>\n",
       "      <td>1</td>\n",
       "      <td>0</td>\n",
       "      <td>0</td>\n",
       "      <td>21.031488</td>\n",
       "    </tr>\n",
       "    <tr>\n",
       "      <th>7</th>\n",
       "      <td>0</td>\n",
       "      <td>22</td>\n",
       "      <td>0</td>\n",
       "      <td>0</td>\n",
       "      <td>1</td>\n",
       "      <td>13.039954</td>\n",
       "    </tr>\n",
       "    <tr>\n",
       "      <th>8</th>\n",
       "      <td>0</td>\n",
       "      <td>23</td>\n",
       "      <td>0</td>\n",
       "      <td>1</td>\n",
       "      <td>1</td>\n",
       "      <td>8.593106</td>\n",
       "    </tr>\n",
       "    <tr>\n",
       "      <th>9</th>\n",
       "      <td>1</td>\n",
       "      <td>19</td>\n",
       "      <td>0</td>\n",
       "      <td>0</td>\n",
       "      <td>1</td>\n",
       "      <td>1.965708</td>\n",
       "    </tr>\n",
       "    <tr>\n",
       "      <th>10</th>\n",
       "      <td>0</td>\n",
       "      <td>54</td>\n",
       "      <td>0</td>\n",
       "      <td>0</td>\n",
       "      <td>1</td>\n",
       "      <td>12.745363</td>\n",
       "    </tr>\n",
       "    <tr>\n",
       "      <th>11</th>\n",
       "      <td>0</td>\n",
       "      <td>20</td>\n",
       "      <td>1</td>\n",
       "      <td>0</td>\n",
       "      <td>1</td>\n",
       "      <td>14.968616</td>\n",
       "    </tr>\n",
       "    <tr>\n",
       "      <th>12</th>\n",
       "      <td>0</td>\n",
       "      <td>56</td>\n",
       "      <td>0</td>\n",
       "      <td>0</td>\n",
       "      <td>1</td>\n",
       "      <td>7.581745</td>\n",
       "    </tr>\n",
       "    <tr>\n",
       "      <th>13</th>\n",
       "      <td>0</td>\n",
       "      <td>53</td>\n",
       "      <td>0</td>\n",
       "      <td>0</td>\n",
       "      <td>1</td>\n",
       "      <td>5.788385</td>\n",
       "    </tr>\n",
       "    <tr>\n",
       "      <th>14</th>\n",
       "      <td>0</td>\n",
       "      <td>49</td>\n",
       "      <td>0</td>\n",
       "      <td>0</td>\n",
       "      <td>1</td>\n",
       "      <td>14.253003</td>\n",
       "    </tr>\n",
       "    <tr>\n",
       "      <th>15</th>\n",
       "      <td>0</td>\n",
       "      <td>48</td>\n",
       "      <td>1</td>\n",
       "      <td>0</td>\n",
       "      <td>0</td>\n",
       "      <td>18.254036</td>\n",
       "    </tr>\n",
       "    <tr>\n",
       "      <th>16</th>\n",
       "      <td>0</td>\n",
       "      <td>19</td>\n",
       "      <td>1</td>\n",
       "      <td>1</td>\n",
       "      <td>1</td>\n",
       "      <td>21.719913</td>\n",
       "    </tr>\n",
       "    <tr>\n",
       "      <th>17</th>\n",
       "      <td>0</td>\n",
       "      <td>34</td>\n",
       "      <td>1</td>\n",
       "      <td>0</td>\n",
       "      <td>0</td>\n",
       "      <td>18.651031</td>\n",
       "    </tr>\n",
       "    <tr>\n",
       "      <th>18</th>\n",
       "      <td>0</td>\n",
       "      <td>22</td>\n",
       "      <td>1</td>\n",
       "      <td>0</td>\n",
       "      <td>0</td>\n",
       "      <td>20.116080</td>\n",
       "    </tr>\n",
       "    <tr>\n",
       "      <th>19</th>\n",
       "      <td>0</td>\n",
       "      <td>38</td>\n",
       "      <td>1</td>\n",
       "      <td>0</td>\n",
       "      <td>0</td>\n",
       "      <td>20.770570</td>\n",
       "    </tr>\n",
       "    <tr>\n",
       "      <th>20</th>\n",
       "      <td>1</td>\n",
       "      <td>32</td>\n",
       "      <td>1</td>\n",
       "      <td>0</td>\n",
       "      <td>1</td>\n",
       "      <td>12.220795</td>\n",
       "    </tr>\n",
       "    <tr>\n",
       "      <th>21</th>\n",
       "      <td>0</td>\n",
       "      <td>42</td>\n",
       "      <td>0</td>\n",
       "      <td>0</td>\n",
       "      <td>1</td>\n",
       "      <td>10.867250</td>\n",
       "    </tr>\n",
       "    <tr>\n",
       "      <th>22</th>\n",
       "      <td>1</td>\n",
       "      <td>26</td>\n",
       "      <td>1</td>\n",
       "      <td>1</td>\n",
       "      <td>1</td>\n",
       "      <td>19.342920</td>\n",
       "    </tr>\n",
       "    <tr>\n",
       "      <th>23</th>\n",
       "      <td>0</td>\n",
       "      <td>57</td>\n",
       "      <td>1</td>\n",
       "      <td>0</td>\n",
       "      <td>1</td>\n",
       "      <td>17.028378</td>\n",
       "    </tr>\n",
       "    <tr>\n",
       "      <th>24</th>\n",
       "      <td>1</td>\n",
       "      <td>46</td>\n",
       "      <td>1</td>\n",
       "      <td>1</td>\n",
       "      <td>1</td>\n",
       "      <td>14.920933</td>\n",
       "    </tr>\n",
       "    <tr>\n",
       "      <th>25</th>\n",
       "      <td>0</td>\n",
       "      <td>58</td>\n",
       "      <td>1</td>\n",
       "      <td>0</td>\n",
       "      <td>0</td>\n",
       "      <td>20.671843</td>\n",
       "    </tr>\n",
       "    <tr>\n",
       "      <th>26</th>\n",
       "      <td>1</td>\n",
       "      <td>50</td>\n",
       "      <td>1</td>\n",
       "      <td>1</td>\n",
       "      <td>1</td>\n",
       "      <td>15.711533</td>\n",
       "    </tr>\n",
       "    <tr>\n",
       "      <th>27</th>\n",
       "      <td>0</td>\n",
       "      <td>49</td>\n",
       "      <td>1</td>\n",
       "      <td>0</td>\n",
       "      <td>0</td>\n",
       "      <td>18.648141</td>\n",
       "    </tr>\n",
       "    <tr>\n",
       "      <th>28</th>\n",
       "      <td>0</td>\n",
       "      <td>27</td>\n",
       "      <td>1</td>\n",
       "      <td>0</td>\n",
       "      <td>0</td>\n",
       "      <td>21.813143</td>\n",
       "    </tr>\n",
       "    <tr>\n",
       "      <th>29</th>\n",
       "      <td>0</td>\n",
       "      <td>38</td>\n",
       "      <td>0</td>\n",
       "      <td>1</td>\n",
       "      <td>1</td>\n",
       "      <td>17.475041</td>\n",
       "    </tr>\n",
       "    <tr>\n",
       "      <th>30</th>\n",
       "      <td>0</td>\n",
       "      <td>37</td>\n",
       "      <td>1</td>\n",
       "      <td>0</td>\n",
       "      <td>1</td>\n",
       "      <td>15.558864</td>\n",
       "    </tr>\n",
       "    <tr>\n",
       "      <th>...</th>\n",
       "      <td>...</td>\n",
       "      <td>...</td>\n",
       "      <td>...</td>\n",
       "      <td>...</td>\n",
       "      <td>...</td>\n",
       "      <td>...</td>\n",
       "    </tr>\n",
       "    <tr>\n",
       "      <th>2971</th>\n",
       "      <td>1</td>\n",
       "      <td>33</td>\n",
       "      <td>1</td>\n",
       "      <td>0</td>\n",
       "      <td>1</td>\n",
       "      <td>12.139852</td>\n",
       "    </tr>\n",
       "    <tr>\n",
       "      <th>2972</th>\n",
       "      <td>1</td>\n",
       "      <td>56</td>\n",
       "      <td>0</td>\n",
       "      <td>0</td>\n",
       "      <td>1</td>\n",
       "      <td>1.915499</td>\n",
       "    </tr>\n",
       "    <tr>\n",
       "      <th>2973</th>\n",
       "      <td>1</td>\n",
       "      <td>27</td>\n",
       "      <td>0</td>\n",
       "      <td>1</td>\n",
       "      <td>1</td>\n",
       "      <td>1.668352</td>\n",
       "    </tr>\n",
       "    <tr>\n",
       "      <th>2974</th>\n",
       "      <td>0</td>\n",
       "      <td>37</td>\n",
       "      <td>1</td>\n",
       "      <td>0</td>\n",
       "      <td>1</td>\n",
       "      <td>14.942464</td>\n",
       "    </tr>\n",
       "    <tr>\n",
       "      <th>2975</th>\n",
       "      <td>1</td>\n",
       "      <td>28</td>\n",
       "      <td>1</td>\n",
       "      <td>1</td>\n",
       "      <td>1</td>\n",
       "      <td>17.154657</td>\n",
       "    </tr>\n",
       "    <tr>\n",
       "      <th>2976</th>\n",
       "      <td>1</td>\n",
       "      <td>52</td>\n",
       "      <td>1</td>\n",
       "      <td>1</td>\n",
       "      <td>1</td>\n",
       "      <td>11.467616</td>\n",
       "    </tr>\n",
       "    <tr>\n",
       "      <th>2977</th>\n",
       "      <td>0</td>\n",
       "      <td>43</td>\n",
       "      <td>1</td>\n",
       "      <td>1</td>\n",
       "      <td>0</td>\n",
       "      <td>22.375457</td>\n",
       "    </tr>\n",
       "    <tr>\n",
       "      <th>2978</th>\n",
       "      <td>0</td>\n",
       "      <td>43</td>\n",
       "      <td>0</td>\n",
       "      <td>0</td>\n",
       "      <td>1</td>\n",
       "      <td>3.552823</td>\n",
       "    </tr>\n",
       "    <tr>\n",
       "      <th>2979</th>\n",
       "      <td>0</td>\n",
       "      <td>25</td>\n",
       "      <td>0</td>\n",
       "      <td>0</td>\n",
       "      <td>1</td>\n",
       "      <td>11.401859</td>\n",
       "    </tr>\n",
       "    <tr>\n",
       "      <th>2980</th>\n",
       "      <td>0</td>\n",
       "      <td>38</td>\n",
       "      <td>1</td>\n",
       "      <td>0</td>\n",
       "      <td>0</td>\n",
       "      <td>18.574942</td>\n",
       "    </tr>\n",
       "    <tr>\n",
       "      <th>2981</th>\n",
       "      <td>0</td>\n",
       "      <td>55</td>\n",
       "      <td>1</td>\n",
       "      <td>0</td>\n",
       "      <td>0</td>\n",
       "      <td>21.206353</td>\n",
       "    </tr>\n",
       "    <tr>\n",
       "      <th>2982</th>\n",
       "      <td>0</td>\n",
       "      <td>58</td>\n",
       "      <td>1</td>\n",
       "      <td>0</td>\n",
       "      <td>1</td>\n",
       "      <td>13.556694</td>\n",
       "    </tr>\n",
       "    <tr>\n",
       "      <th>2983</th>\n",
       "      <td>0</td>\n",
       "      <td>56</td>\n",
       "      <td>0</td>\n",
       "      <td>1</td>\n",
       "      <td>1</td>\n",
       "      <td>8.015187</td>\n",
       "    </tr>\n",
       "    <tr>\n",
       "      <th>2984</th>\n",
       "      <td>1</td>\n",
       "      <td>36</td>\n",
       "      <td>0</td>\n",
       "      <td>0</td>\n",
       "      <td>1</td>\n",
       "      <td>6.175789</td>\n",
       "    </tr>\n",
       "    <tr>\n",
       "      <th>2985</th>\n",
       "      <td>0</td>\n",
       "      <td>58</td>\n",
       "      <td>0</td>\n",
       "      <td>1</td>\n",
       "      <td>1</td>\n",
       "      <td>21.832655</td>\n",
       "    </tr>\n",
       "    <tr>\n",
       "      <th>2986</th>\n",
       "      <td>0</td>\n",
       "      <td>54</td>\n",
       "      <td>1</td>\n",
       "      <td>0</td>\n",
       "      <td>1</td>\n",
       "      <td>19.588053</td>\n",
       "    </tr>\n",
       "    <tr>\n",
       "      <th>2987</th>\n",
       "      <td>1</td>\n",
       "      <td>24</td>\n",
       "      <td>1</td>\n",
       "      <td>0</td>\n",
       "      <td>1</td>\n",
       "      <td>16.310147</td>\n",
       "    </tr>\n",
       "    <tr>\n",
       "      <th>2988</th>\n",
       "      <td>0</td>\n",
       "      <td>35</td>\n",
       "      <td>0</td>\n",
       "      <td>0</td>\n",
       "      <td>1</td>\n",
       "      <td>13.900499</td>\n",
       "    </tr>\n",
       "    <tr>\n",
       "      <th>2989</th>\n",
       "      <td>1</td>\n",
       "      <td>47</td>\n",
       "      <td>0</td>\n",
       "      <td>0</td>\n",
       "      <td>1</td>\n",
       "      <td>5.327094</td>\n",
       "    </tr>\n",
       "    <tr>\n",
       "      <th>2990</th>\n",
       "      <td>0</td>\n",
       "      <td>32</td>\n",
       "      <td>1</td>\n",
       "      <td>1</td>\n",
       "      <td>0</td>\n",
       "      <td>19.743018</td>\n",
       "    </tr>\n",
       "    <tr>\n",
       "      <th>2991</th>\n",
       "      <td>0</td>\n",
       "      <td>50</td>\n",
       "      <td>1</td>\n",
       "      <td>0</td>\n",
       "      <td>0</td>\n",
       "      <td>18.470577</td>\n",
       "    </tr>\n",
       "    <tr>\n",
       "      <th>2992</th>\n",
       "      <td>0</td>\n",
       "      <td>29</td>\n",
       "      <td>0</td>\n",
       "      <td>1</td>\n",
       "      <td>0</td>\n",
       "      <td>19.807723</td>\n",
       "    </tr>\n",
       "    <tr>\n",
       "      <th>2993</th>\n",
       "      <td>0</td>\n",
       "      <td>58</td>\n",
       "      <td>1</td>\n",
       "      <td>0</td>\n",
       "      <td>1</td>\n",
       "      <td>16.500628</td>\n",
       "    </tr>\n",
       "    <tr>\n",
       "      <th>2994</th>\n",
       "      <td>0</td>\n",
       "      <td>26</td>\n",
       "      <td>1</td>\n",
       "      <td>1</td>\n",
       "      <td>1</td>\n",
       "      <td>17.933190</td>\n",
       "    </tr>\n",
       "    <tr>\n",
       "      <th>2995</th>\n",
       "      <td>0</td>\n",
       "      <td>37</td>\n",
       "      <td>0</td>\n",
       "      <td>1</td>\n",
       "      <td>1</td>\n",
       "      <td>18.706615</td>\n",
       "    </tr>\n",
       "    <tr>\n",
       "      <th>2996</th>\n",
       "      <td>0</td>\n",
       "      <td>50</td>\n",
       "      <td>0</td>\n",
       "      <td>0</td>\n",
       "      <td>1</td>\n",
       "      <td>5.912346</td>\n",
       "    </tr>\n",
       "    <tr>\n",
       "      <th>2997</th>\n",
       "      <td>0</td>\n",
       "      <td>51</td>\n",
       "      <td>0</td>\n",
       "      <td>1</td>\n",
       "      <td>1</td>\n",
       "      <td>14.606427</td>\n",
       "    </tr>\n",
       "    <tr>\n",
       "      <th>2998</th>\n",
       "      <td>0</td>\n",
       "      <td>49</td>\n",
       "      <td>0</td>\n",
       "      <td>0</td>\n",
       "      <td>1</td>\n",
       "      <td>10.257404</td>\n",
       "    </tr>\n",
       "    <tr>\n",
       "      <th>2999</th>\n",
       "      <td>1</td>\n",
       "      <td>34</td>\n",
       "      <td>1</td>\n",
       "      <td>0</td>\n",
       "      <td>1</td>\n",
       "      <td>12.975489</td>\n",
       "    </tr>\n",
       "    <tr>\n",
       "      <th>3000</th>\n",
       "      <td>0</td>\n",
       "      <td>37</td>\n",
       "      <td>1</td>\n",
       "      <td>0</td>\n",
       "      <td>0</td>\n",
       "      <td>18.119690</td>\n",
       "    </tr>\n",
       "  </tbody>\n",
       "</table>\n",
       "<p>3000 rows × 6 columns</p>\n",
       "</div>"
      ],
      "text/plain": [
       "      male  age  search  brand  event   lifetime\n",
       "id                                              \n",
       "1        0   59       1      1      0  18.358052\n",
       "2        0   41       0      0      0  19.613458\n",
       "3        0   56       0      1      1  10.007883\n",
       "4        0   47       0      0      1  11.601139\n",
       "5        1   44       1      0      1  11.815086\n",
       "6        1   29       1      0      0  21.031488\n",
       "7        0   22       0      0      1  13.039954\n",
       "8        0   23       0      1      1   8.593106\n",
       "9        1   19       0      0      1   1.965708\n",
       "10       0   54       0      0      1  12.745363\n",
       "11       0   20       1      0      1  14.968616\n",
       "12       0   56       0      0      1   7.581745\n",
       "13       0   53       0      0      1   5.788385\n",
       "14       0   49       0      0      1  14.253003\n",
       "15       0   48       1      0      0  18.254036\n",
       "16       0   19       1      1      1  21.719913\n",
       "17       0   34       1      0      0  18.651031\n",
       "18       0   22       1      0      0  20.116080\n",
       "19       0   38       1      0      0  20.770570\n",
       "20       1   32       1      0      1  12.220795\n",
       "21       0   42       0      0      1  10.867250\n",
       "22       1   26       1      1      1  19.342920\n",
       "23       0   57       1      0      1  17.028378\n",
       "24       1   46       1      1      1  14.920933\n",
       "25       0   58       1      0      0  20.671843\n",
       "26       1   50       1      1      1  15.711533\n",
       "27       0   49       1      0      0  18.648141\n",
       "28       0   27       1      0      0  21.813143\n",
       "29       0   38       0      1      1  17.475041\n",
       "30       0   37       1      0      1  15.558864\n",
       "...    ...  ...     ...    ...    ...        ...\n",
       "2971     1   33       1      0      1  12.139852\n",
       "2972     1   56       0      0      1   1.915499\n",
       "2973     1   27       0      1      1   1.668352\n",
       "2974     0   37       1      0      1  14.942464\n",
       "2975     1   28       1      1      1  17.154657\n",
       "2976     1   52       1      1      1  11.467616\n",
       "2977     0   43       1      1      0  22.375457\n",
       "2978     0   43       0      0      1   3.552823\n",
       "2979     0   25       0      0      1  11.401859\n",
       "2980     0   38       1      0      0  18.574942\n",
       "2981     0   55       1      0      0  21.206353\n",
       "2982     0   58       1      0      1  13.556694\n",
       "2983     0   56       0      1      1   8.015187\n",
       "2984     1   36       0      0      1   6.175789\n",
       "2985     0   58       0      1      1  21.832655\n",
       "2986     0   54       1      0      1  19.588053\n",
       "2987     1   24       1      0      1  16.310147\n",
       "2988     0   35       0      0      1  13.900499\n",
       "2989     1   47       0      0      1   5.327094\n",
       "2990     0   32       1      1      0  19.743018\n",
       "2991     0   50       1      0      0  18.470577\n",
       "2992     0   29       0      1      0  19.807723\n",
       "2993     0   58       1      0      1  16.500628\n",
       "2994     0   26       1      1      1  17.933190\n",
       "2995     0   37       0      1      1  18.706615\n",
       "2996     0   50       0      0      1   5.912346\n",
       "2997     0   51       0      1      1  14.606427\n",
       "2998     0   49       0      0      1  10.257404\n",
       "2999     1   34       1      0      1  12.975489\n",
       "3000     0   37       1      0      0  18.119690\n",
       "\n",
       "[3000 rows x 6 columns]"
      ]
     },
     "execution_count": 13,
     "metadata": {},
     "output_type": "execute_result"
    }
   ],
   "source": [
    "def convert_to_days(dt):\n",
    "    day_diff = dt / np.timedelta64(1, 'D')\n",
    "    if day_diff == 0:\n",
    "        return 23.0\n",
    "    else: \n",
    "        return day_diff\n",
    "\n",
    "df = pd.DataFrame(output, columns=[\"id\", \"advert_time\", \"male\",\"age\",\"search\",\"brand\",\"conversion_time\",\"event\"])\n",
    "df[\"lifetime\"] = pd.to_datetime(df[\"conversion_time\"]) - pd.to_datetime(df[\"advert_time\"])\n",
    "df[\"lifetime\"] = df[\"lifetime\"].apply(convert_to_days)\n",
    "df[\"male\"] = df[\"male\"].astype(int)\n",
    "df[\"search\"] = df[\"search\"].astype(int)\n",
    "df[\"brand\"] = df[\"brand\"].astype(int)\n",
    "df[\"age\"] = df[\"age\"].astype(int)\n",
    "df[\"event\"] = df[\"event\"].astype(int)\n",
    "df = df.drop('advert_time', 1)\n",
    "df = df.drop('conversion_time', 1)\n",
    "df = df.set_index(\"id\")\n",
    "df = df.dropna(thresh=2)\n",
    "df.median()\n",
    "df"
   ]
  },
  {
   "cell_type": "code",
   "execution_count": null,
   "metadata": {
    "collapsed": false
   },
   "outputs": [],
   "source": [
    "###Parametric Bayes\n",
    "#Shout out to Cam Davidson-Pilon"
   ]
  },
  {
   "cell_type": "code",
   "execution_count": 16,
   "metadata": {
    "collapsed": false
   },
   "outputs": [
    {
     "name": "stdout",
     "output_type": "stream",
     "text": [
      " [-----------------100%-----------------] 10000 of 10000 complete in 24.9 sec"
     ]
    }
   ],
   "source": [
    "## Example fully worked model using toy data\n",
    "## Adapted from http://blog.yhat.com/posts/estimating-user-lifetimes-with-pymc.html\n",
    "## Note that we've made some corrections\n",
    "censor = np.array(df[\"event\"].apply(lambda x: 0 if x else 1).tolist())\n",
    "alpha = pm.Uniform(\"alpha\", 0,50) \n",
    "beta = pm.Uniform(\"beta\", 0,50) \n",
    "\n",
    "@pm.observed\n",
    "def survival(value=df[\"lifetime\"], alpha = alpha, beta = beta ):\n",
    "    return sum( (1-censor)*(np.log( alpha/beta) + (alpha-1)*np.log(value/beta)) - (value/beta)**(alpha))\n",
    "\n",
    "\n",
    "mcmc = pm.MCMC([alpha, beta, survival ] )\n",
    "mcmc.sample(10000)"
   ]
  },
  {
   "cell_type": "code",
   "execution_count": 17,
   "metadata": {
    "collapsed": false
   },
   "outputs": [
    {
     "name": "stdout",
     "output_type": "stream",
     "text": [
      "Plotting alpha\n",
      "Plotting beta\n"
     ]
    },
    {
     "data": {
      "text/plain": [
       "array([ 8.97671912,  8.97671912,  8.97671912, ...,  1.79408852,\n",
       "        1.79408852,  1.79408852])"
      ]
     },
     "execution_count": 17,
     "metadata": {},
     "output_type": "execute_result"
    },
    {
     "data": {
      "image/png": "[encoded data removed]",
      "text/plain": [
       "<matplotlib.figure.Figure at 0x38eceef0b8>"
      ]
     },
     "metadata": {},
     "output_type": "display_data"
    },
    {
     "data": {
      "image/png": "[encoded data removed]",
      "text/plain": [
       "<matplotlib.figure.Figure at 0x38ecaeb668>"
      ]
     },
     "metadata": {},
     "output_type": "display_data"
    }
   ],
   "source": [
    "pm.Matplot.plot(mcmc)\n",
    "mcmc.trace(\"alpha\")[:]"
   ]
  },
  {
   "cell_type": "markdown",
   "metadata": {},
   "source": [
    "Problems: \n",
    "\n",
    "    2 - Try to fit your data from section 1 \n",
    "    3 - Use the results to plot the distribution of the median\n",
    "    --------\n",
    "    4 - Try adjusting the number of samples, the burn parameter and the amount of thinning to correct get good answers\n",
    "    5 - Try adjusting the prior and see how it affects the estimate\n",
    "    --------\n",
    "    6 - Try to fit a different distribution to the data\n",
    "    7 - Compare answers\n",
    "    Bonus - test the hypothesis that the true median is greater than a certain amount\n",
    "    \n",
    "For question 2, note that the median of a Weibull is:\n",
    "\n",
    "$$β(log 2)^{1/α}$$\n",
    "    "
   ]
  },
  {
   "cell_type": "code",
   "execution_count": 18,
   "metadata": {
    "collapsed": false
   },
   "outputs": [
    {
     "data": {
      "text/plain": [
       "(array([  1.00000000e+00,   0.00000000e+00,   0.00000000e+00,\n",
       "          0.00000000e+00,   0.00000000e+00,   0.00000000e+00,\n",
       "          0.00000000e+00,   9.81600000e+03,   1.80000000e+02,\n",
       "          3.00000000e+00]),\n",
       " array([  4.88512654,   6.28886044,   7.69259433,   9.09632823,\n",
       "         10.50006213,  11.90379603,  13.30752992,  14.71126382,\n",
       "         16.11499772,  17.51873162,  18.92246552]),\n",
       " <a list of 10 Patch objects>)"
      ]
     },
     "execution_count": 18,
     "metadata": {},
     "output_type": "execute_result"
    },
    {
     "data": {
      "image/png": "[encoded data removed]",
      "text/plain": [
       "<matplotlib.figure.Figure at 0x38edabcda0>"
      ]
     },
     "metadata": {},
     "output_type": "display_data"
    }
   ],
   "source": [
    "#Solution to question 4:\n",
    "def weibull_median(alpha, beta):\n",
    "    return beta * ((log(2)) ** ( 1 / alpha))\n",
    "plt.hist([weibull_median(x[0], x[1]) for x in zip(mcmc.trace(\"alpha\"), mcmc.trace(\"beta\"))])"
   ]
  },
  {
   "cell_type": "code",
   "execution_count": 20,
   "metadata": {
    "collapsed": false
   },
   "outputs": [
    {
     "name": "stdout",
     "output_type": "stream",
     "text": [
      " [-----------------100%-----------------] 10000 of 10000 complete in 22.0 secPlotting alpha\n",
      "Plotting beta\n"
     ]
    },
    {
     "data": {
      "image/png": "[encoded data removed]",
      "text/plain": [
       "<matplotlib.figure.Figure at 0x38edba91d0>"
      ]
     },
     "metadata": {},
     "output_type": "display_data"
    },
    {
     "data": {
      "image/png": "[encoded data removed]",
      "text/plain": [
       "<matplotlib.figure.Figure at 0x38edba4b70>"
      ]
     },
     "metadata": {},
     "output_type": "display_data"
    }
   ],
   "source": [
    "#Solution to question 4:\n",
    "### Increasing the burn parameter allows us to discard results before convergence\n",
    "### Thinning the results removes autocorrelation\n",
    "\n",
    "mcmc = pm.MCMC([alpha, beta, survival ] )\n",
    "mcmc.sample(10000, burn = 3000, thin = 20)\n",
    "\n",
    "pm.Matplot.plot(mcmc)"
   ]
  },
  {
   "cell_type": "code",
   "execution_count": 22,
   "metadata": {
    "collapsed": false
   },
   "outputs": [
    {
     "name": "stdout",
     "output_type": "stream",
     "text": [
      " [-----------------100%-----------------] 10000 of 10000 complete in 18.7 secPlotting alpha\n",
      "Plotting beta\n"
     ]
    },
    {
     "data": {
      "image/png": "[encoded data removed]",
      "text/plain": [
       "<matplotlib.figure.Figure at 0x38eee73668>"
      ]
     },
     "metadata": {},
     "output_type": "display_data"
    },
    {
     "data": {
      "image/png": "[encoded data removed]",
      "text/plain": [
       "<matplotlib.figure.Figure at 0x38eee7c710>"
      ]
     },
     "metadata": {},
     "output_type": "display_data"
    }
   ],
   "source": [
    "#Solution to Q5\n",
    "## Adjusting the priors impacts the overall result\n",
    "## If we give a looser, less informative prior then we end up with a broader, shorter distribution\n",
    "## If we give much more informative priors, then we get a tighter, taller distribution\n",
    "\n",
    "censor = np.array(df[\"event\"].apply(lambda x: 0 if x else 1).tolist())\n",
    "\n",
    "## Note the narrowing of the prior\n",
    "alpha = pm.Normal(\"alpha\", 1.7, 10000) \n",
    "beta = pm.Normal(\"beta\", 18.5, 10000) \n",
    "\n",
    "####Uncomment this to see the result of looser priors\n",
    "## Note this ends up pretty much the same as we're already very loose\n",
    "#alpha = pm.Uniform(\"alpha\", 0, 30) \n",
    "#beta = pm.Uniform(\"beta\", 0, 30) \n",
    "\n",
    "@pm.observed\n",
    "def survival(value=df[\"lifetime\"], alpha = alpha, beta = beta ):\n",
    "    return sum( (1-censor)*(np.log( alpha/beta) + (alpha-1)*np.log(value/beta)) - (value/beta)**(alpha))\n",
    "\n",
    "mcmc = pm.MCMC([alpha, beta, survival ] )\n",
    "mcmc.sample(10000, burn = 5000, thin = 20)\n",
    "pm.Matplot.plot(mcmc)\n",
    "#plt.hist([weibull_median(x[0], x[1]) for x in zip(mcmc.trace(\"alpha\"), mcmc.trace(\"beta\"))])"
   ]
  },
  {
   "cell_type": "code",
   "execution_count": 143,
   "metadata": {
    "collapsed": false
   },
   "outputs": [
    {
     "data": {
      "text/plain": [
       "64.0"
      ]
     },
     "execution_count": 143,
     "metadata": {},
     "output_type": "execute_result"
    }
   ],
   "source": [
    "## Solution to bonus\n",
    "## Super easy to do in the Bayesian framework, all we need to do is look at what % of samples\n",
    "## meet our criteria\n",
    "medians = [weibull_median(x[0], x[1]) for x in zip(mcmc.trace(\"alpha\"), mcmc.trace(\"beta\"))]\n",
    "testing_value = 15.6\n",
    "number_of_greater_samples = sum([x >= testing_value for x in medians])\n",
    "100 * (number_of_greater_samples / len(medians))"
   ]
  },
  {
   "cell_type": "code",
   "execution_count": null,
   "metadata": {
    "collapsed": true
   },
   "outputs": [],
   "source": [
    "#Cox model"
   ]
  },
  {
   "cell_type": "markdown",
   "metadata": {},
   "source": [
    "If we want to look at covariates, we need a new approach.  We'll use Cox proprtional hazards.  More information here."
   ]
  },
  {
   "cell_type": "code",
   "execution_count": 23,
   "metadata": {
    "collapsed": false
   },
   "outputs": [
    {
     "name": "stderr",
     "output_type": "stream",
     "text": [
      "C:\\Users\\j.coltman\\AppData\\Local\\Continuum\\Anaconda3\\lib\\site-packages\\lifelines\\fitters\\coxph_fitter.py:285: FutureWarning: sort(columns=....) is deprecated, use sort_values(by=.....)\n",
      "  df.sort(duration_col, inplace=True)\n"
     ]
    },
    {
     "data": {
      "text/html": [
       "<div>\n",
       "<table border=\"1\" class=\"dataframe\">\n",
       "  <thead>\n",
       "    <tr style=\"text-align: right;\">\n",
       "      <th></th>\n",
       "      <th>coef</th>\n",
       "      <th>exp(coef)</th>\n",
       "      <th>se(coef)</th>\n",
       "      <th>z</th>\n",
       "      <th>p</th>\n",
       "      <th>lower 0.95</th>\n",
       "      <th>upper 0.95</th>\n",
       "    </tr>\n",
       "  </thead>\n",
       "  <tbody>\n",
       "    <tr>\n",
       "      <th>male</th>\n",
       "      <td>0.918199</td>\n",
       "      <td>2.504776</td>\n",
       "      <td>0.023830</td>\n",
       "      <td>38.531786</td>\n",
       "      <td>0.000000</td>\n",
       "      <td>0.871484</td>\n",
       "      <td>0.964915</td>\n",
       "    </tr>\n",
       "    <tr>\n",
       "      <th>age</th>\n",
       "      <td>-0.007011</td>\n",
       "      <td>0.993013</td>\n",
       "      <td>0.022145</td>\n",
       "      <td>-0.316614</td>\n",
       "      <td>0.751537</td>\n",
       "      <td>-0.050425</td>\n",
       "      <td>0.036402</td>\n",
       "    </tr>\n",
       "    <tr>\n",
       "      <th>search</th>\n",
       "      <td>-1.051111</td>\n",
       "      <td>0.349549</td>\n",
       "      <td>0.024398</td>\n",
       "      <td>-43.082327</td>\n",
       "      <td>0.000000</td>\n",
       "      <td>-1.098940</td>\n",
       "      <td>-1.003281</td>\n",
       "    </tr>\n",
       "    <tr>\n",
       "      <th>brand</th>\n",
       "      <td>0.011492</td>\n",
       "      <td>1.011558</td>\n",
       "      <td>0.022047</td>\n",
       "      <td>0.521233</td>\n",
       "      <td>0.602204</td>\n",
       "      <td>-0.031730</td>\n",
       "      <td>0.054713</td>\n",
       "    </tr>\n",
       "  </tbody>\n",
       "</table>\n",
       "</div>"
      ],
      "text/plain": [
       "            coef  exp(coef)  se(coef)          z         p  lower 0.95  \\\n",
       "male    0.918199   2.504776  0.023830  38.531786  0.000000    0.871484   \n",
       "age    -0.007011   0.993013  0.022145  -0.316614  0.751537   -0.050425   \n",
       "search -1.051111   0.349549  0.024398 -43.082327  0.000000   -1.098940   \n",
       "brand   0.011492   1.011558  0.022047   0.521233  0.602204   -0.031730   \n",
       "\n",
       "        upper 0.95  \n",
       "male      0.964915  \n",
       "age       0.036402  \n",
       "search   -1.003281  \n",
       "brand     0.054713  "
      ]
     },
     "execution_count": 23,
     "metadata": {},
     "output_type": "execute_result"
    }
   ],
   "source": [
    "#Fitting solution\n",
    "cf = lifelines.CoxPHFitter()\n",
    "cf.fit(df, 'lifetime', event_col = 'event')\n",
    "cf.summary"
   ]
  },
  {
   "cell_type": "markdown",
   "metadata": {},
   "source": [
    "Once we've fit the data, we need to do something useful with it.  Try to do the following things:\n",
    "\n",
    "    1 - Plot the baseline survival function\n",
    "\n",
    "    2 - Predict the functions for a particular set of features\n",
    "\n",
    "    3 - Plot the survival function for two different set of features\n",
    "\n",
    "    4 - For your results in part 3 caculate how much more likely a death event is for one than the other for a given period of time"
   ]
  },
  {
   "cell_type": "code",
   "execution_count": 24,
   "metadata": {
    "collapsed": false
   },
   "outputs": [
    {
     "data": {
      "text/plain": [
       "<matplotlib.axes._subplots.AxesSubplot at 0x38ecf49da0>"
      ]
     },
     "execution_count": 24,
     "metadata": {},
     "output_type": "execute_result"
    },
    {
     "data": {
      "image/png": "[encoded data removed]",
      "text/plain": [
       "<matplotlib.figure.Figure at 0x38ecaf0160>"
      ]
     },
     "metadata": {},
     "output_type": "display_data"
    }
   ],
   "source": [
    "#Solution to 1\n",
    "fig, axis = plt.subplots(nrows=1, ncols=1)\n",
    "cf.baseline_survival_.plot(ax = axis, title = \"Baseline Survival\")"
   ]
  },
  {
   "cell_type": "code",
   "execution_count": 26,
   "metadata": {
    "collapsed": false
   },
   "outputs": [
    {
     "data": {
      "text/html": [
       "<div>\n",
       "<table border=\"1\" class=\"dataframe\">\n",
       "  <thead>\n",
       "    <tr style=\"text-align: right;\">\n",
       "      <th></th>\n",
       "      <th>0</th>\n",
       "    </tr>\n",
       "    <tr>\n",
       "      <th>event_at</th>\n",
       "      <th></th>\n",
       "    </tr>\n",
       "  </thead>\n",
       "  <tbody>\n",
       "    <tr>\n",
       "      <th>0.000000</th>\n",
       "      <td>1.000000e+00</td>\n",
       "    </tr>\n",
       "    <tr>\n",
       "      <th>1.007159</th>\n",
       "      <td>9.986030e-01</td>\n",
       "    </tr>\n",
       "    <tr>\n",
       "      <th>1.011755</th>\n",
       "      <td>9.972059e-01</td>\n",
       "    </tr>\n",
       "    <tr>\n",
       "      <th>1.026149</th>\n",
       "      <td>9.958088e-01</td>\n",
       "    </tr>\n",
       "    <tr>\n",
       "      <th>1.032037</th>\n",
       "      <td>9.944117e-01</td>\n",
       "    </tr>\n",
       "    <tr>\n",
       "      <th>1.032459</th>\n",
       "      <td>9.930145e-01</td>\n",
       "    </tr>\n",
       "    <tr>\n",
       "      <th>1.035578</th>\n",
       "      <td>9.916174e-01</td>\n",
       "    </tr>\n",
       "    <tr>\n",
       "      <th>1.046138</th>\n",
       "      <td>9.902203e-01</td>\n",
       "    </tr>\n",
       "    <tr>\n",
       "      <th>1.048734</th>\n",
       "      <td>9.888231e-01</td>\n",
       "    </tr>\n",
       "    <tr>\n",
       "      <th>1.048797</th>\n",
       "      <td>9.874260e-01</td>\n",
       "    </tr>\n",
       "    <tr>\n",
       "      <th>1.052254</th>\n",
       "      <td>9.860288e-01</td>\n",
       "    </tr>\n",
       "    <tr>\n",
       "      <th>1.052932</th>\n",
       "      <td>9.846316e-01</td>\n",
       "    </tr>\n",
       "    <tr>\n",
       "      <th>1.056191</th>\n",
       "      <td>9.832344e-01</td>\n",
       "    </tr>\n",
       "    <tr>\n",
       "      <th>1.056964</th>\n",
       "      <td>9.818372e-01</td>\n",
       "    </tr>\n",
       "    <tr>\n",
       "      <th>1.059231</th>\n",
       "      <td>9.804399e-01</td>\n",
       "    </tr>\n",
       "    <tr>\n",
       "      <th>1.073340</th>\n",
       "      <td>9.790427e-01</td>\n",
       "    </tr>\n",
       "    <tr>\n",
       "      <th>1.078840</th>\n",
       "      <td>9.776454e-01</td>\n",
       "    </tr>\n",
       "    <tr>\n",
       "      <th>1.086120</th>\n",
       "      <td>9.762481e-01</td>\n",
       "    </tr>\n",
       "    <tr>\n",
       "      <th>1.090214</th>\n",
       "      <td>9.748508e-01</td>\n",
       "    </tr>\n",
       "    <tr>\n",
       "      <th>1.099706</th>\n",
       "      <td>9.734534e-01</td>\n",
       "    </tr>\n",
       "    <tr>\n",
       "      <th>1.106758</th>\n",
       "      <td>9.720560e-01</td>\n",
       "    </tr>\n",
       "    <tr>\n",
       "      <th>1.112486</th>\n",
       "      <td>9.706586e-01</td>\n",
       "    </tr>\n",
       "    <tr>\n",
       "      <th>1.115967</th>\n",
       "      <td>9.692611e-01</td>\n",
       "    </tr>\n",
       "    <tr>\n",
       "      <th>1.116742</th>\n",
       "      <td>9.678636e-01</td>\n",
       "    </tr>\n",
       "    <tr>\n",
       "      <th>1.126141</th>\n",
       "      <td>9.664661e-01</td>\n",
       "    </tr>\n",
       "    <tr>\n",
       "      <th>1.130302</th>\n",
       "      <td>9.650685e-01</td>\n",
       "    </tr>\n",
       "    <tr>\n",
       "      <th>1.132234</th>\n",
       "      <td>9.636710e-01</td>\n",
       "    </tr>\n",
       "    <tr>\n",
       "      <th>1.136273</th>\n",
       "      <td>9.622735e-01</td>\n",
       "    </tr>\n",
       "    <tr>\n",
       "      <th>1.138430</th>\n",
       "      <td>9.608758e-01</td>\n",
       "    </tr>\n",
       "    <tr>\n",
       "      <th>1.142263</th>\n",
       "      <td>9.594782e-01</td>\n",
       "    </tr>\n",
       "    <tr>\n",
       "      <th>...</th>\n",
       "      <td>...</td>\n",
       "    </tr>\n",
       "    <tr>\n",
       "      <th>22.683012</th>\n",
       "      <td>1.578424e-12</td>\n",
       "    </tr>\n",
       "    <tr>\n",
       "      <th>22.695353</th>\n",
       "      <td>1.578424e-12</td>\n",
       "    </tr>\n",
       "    <tr>\n",
       "      <th>22.695885</th>\n",
       "      <td>1.578424e-12</td>\n",
       "    </tr>\n",
       "    <tr>\n",
       "      <th>22.729392</th>\n",
       "      <td>1.578424e-12</td>\n",
       "    </tr>\n",
       "    <tr>\n",
       "      <th>22.738744</th>\n",
       "      <td>1.578424e-12</td>\n",
       "    </tr>\n",
       "    <tr>\n",
       "      <th>22.740731</th>\n",
       "      <td>1.578424e-12</td>\n",
       "    </tr>\n",
       "    <tr>\n",
       "      <th>22.759964</th>\n",
       "      <td>1.578424e-12</td>\n",
       "    </tr>\n",
       "    <tr>\n",
       "      <th>22.760298</th>\n",
       "      <td>1.578424e-12</td>\n",
       "    </tr>\n",
       "    <tr>\n",
       "      <th>22.764757</th>\n",
       "      <td>1.578424e-12</td>\n",
       "    </tr>\n",
       "    <tr>\n",
       "      <th>22.765239</th>\n",
       "      <td>1.578424e-12</td>\n",
       "    </tr>\n",
       "    <tr>\n",
       "      <th>22.767487</th>\n",
       "      <td>1.578424e-12</td>\n",
       "    </tr>\n",
       "    <tr>\n",
       "      <th>22.774943</th>\n",
       "      <td>1.578424e-12</td>\n",
       "    </tr>\n",
       "    <tr>\n",
       "      <th>22.775257</th>\n",
       "      <td>1.578424e-12</td>\n",
       "    </tr>\n",
       "    <tr>\n",
       "      <th>22.784470</th>\n",
       "      <td>1.578424e-12</td>\n",
       "    </tr>\n",
       "    <tr>\n",
       "      <th>22.789286</th>\n",
       "      <td>1.578424e-12</td>\n",
       "    </tr>\n",
       "    <tr>\n",
       "      <th>22.800327</th>\n",
       "      <td>1.578424e-12</td>\n",
       "    </tr>\n",
       "    <tr>\n",
       "      <th>22.812494</th>\n",
       "      <td>1.578424e-12</td>\n",
       "    </tr>\n",
       "    <tr>\n",
       "      <th>22.826084</th>\n",
       "      <td>1.578424e-12</td>\n",
       "    </tr>\n",
       "    <tr>\n",
       "      <th>22.844867</th>\n",
       "      <td>1.578424e-12</td>\n",
       "    </tr>\n",
       "    <tr>\n",
       "      <th>22.884070</th>\n",
       "      <td>1.578424e-12</td>\n",
       "    </tr>\n",
       "    <tr>\n",
       "      <th>22.890574</th>\n",
       "      <td>1.578424e-12</td>\n",
       "    </tr>\n",
       "    <tr>\n",
       "      <th>22.946520</th>\n",
       "      <td>1.578424e-12</td>\n",
       "    </tr>\n",
       "    <tr>\n",
       "      <th>22.953504</th>\n",
       "      <td>1.578424e-12</td>\n",
       "    </tr>\n",
       "    <tr>\n",
       "      <th>22.955722</th>\n",
       "      <td>1.578424e-12</td>\n",
       "    </tr>\n",
       "    <tr>\n",
       "      <th>22.960908</th>\n",
       "      <td>1.578424e-12</td>\n",
       "    </tr>\n",
       "    <tr>\n",
       "      <th>22.965550</th>\n",
       "      <td>1.578424e-12</td>\n",
       "    </tr>\n",
       "    <tr>\n",
       "      <th>22.968054</th>\n",
       "      <td>1.578424e-12</td>\n",
       "    </tr>\n",
       "    <tr>\n",
       "      <th>22.975204</th>\n",
       "      <td>1.578424e-12</td>\n",
       "    </tr>\n",
       "    <tr>\n",
       "      <th>22.990884</th>\n",
       "      <td>1.578424e-12</td>\n",
       "    </tr>\n",
       "    <tr>\n",
       "      <th>22.997638</th>\n",
       "      <td>1.578424e-12</td>\n",
       "    </tr>\n",
       "  </tbody>\n",
       "</table>\n",
       "<p>3001 rows × 1 columns</p>\n",
       "</div>"
      ],
      "text/plain": [
       "                      0\n",
       "event_at               \n",
       "0.000000   1.000000e+00\n",
       "1.007159   9.986030e-01\n",
       "1.011755   9.972059e-01\n",
       "1.026149   9.958088e-01\n",
       "1.032037   9.944117e-01\n",
       "1.032459   9.930145e-01\n",
       "1.035578   9.916174e-01\n",
       "1.046138   9.902203e-01\n",
       "1.048734   9.888231e-01\n",
       "1.048797   9.874260e-01\n",
       "1.052254   9.860288e-01\n",
       "1.052932   9.846316e-01\n",
       "1.056191   9.832344e-01\n",
       "1.056964   9.818372e-01\n",
       "1.059231   9.804399e-01\n",
       "1.073340   9.790427e-01\n",
       "1.078840   9.776454e-01\n",
       "1.086120   9.762481e-01\n",
       "1.090214   9.748508e-01\n",
       "1.099706   9.734534e-01\n",
       "1.106758   9.720560e-01\n",
       "1.112486   9.706586e-01\n",
       "1.115967   9.692611e-01\n",
       "1.116742   9.678636e-01\n",
       "1.126141   9.664661e-01\n",
       "1.130302   9.650685e-01\n",
       "1.132234   9.636710e-01\n",
       "1.136273   9.622735e-01\n",
       "1.138430   9.608758e-01\n",
       "1.142263   9.594782e-01\n",
       "...                 ...\n",
       "22.683012  1.578424e-12\n",
       "22.695353  1.578424e-12\n",
       "22.695885  1.578424e-12\n",
       "22.729392  1.578424e-12\n",
       "22.738744  1.578424e-12\n",
       "22.740731  1.578424e-12\n",
       "22.759964  1.578424e-12\n",
       "22.760298  1.578424e-12\n",
       "22.764757  1.578424e-12\n",
       "22.765239  1.578424e-12\n",
       "22.767487  1.578424e-12\n",
       "22.774943  1.578424e-12\n",
       "22.775257  1.578424e-12\n",
       "22.784470  1.578424e-12\n",
       "22.789286  1.578424e-12\n",
       "22.800327  1.578424e-12\n",
       "22.812494  1.578424e-12\n",
       "22.826084  1.578424e-12\n",
       "22.844867  1.578424e-12\n",
       "22.884070  1.578424e-12\n",
       "22.890574  1.578424e-12\n",
       "22.946520  1.578424e-12\n",
       "22.953504  1.578424e-12\n",
       "22.955722  1.578424e-12\n",
       "22.960908  1.578424e-12\n",
       "22.965550  1.578424e-12\n",
       "22.968054  1.578424e-12\n",
       "22.975204  1.578424e-12\n",
       "22.990884  1.578424e-12\n",
       "22.997638  1.578424e-12\n",
       "\n",
       "[3001 rows x 1 columns]"
      ]
     },
     "execution_count": 26,
     "metadata": {},
     "output_type": "execute_result"
    }
   ],
   "source": [
    "# Solution to prediction\n",
    "regressors = np.array([[1,45,0,0]])\n",
    "survival = cf.predict_survival_function(regressors)\n",
    "survival"
   ]
  },
  {
   "cell_type": "code",
   "execution_count": 32,
   "metadata": {
    "collapsed": false
   },
   "outputs": [
    {
     "data": {
      "text/plain": [
       "<matplotlib.legend.Legend at 0x38edcce390>"
      ]
     },
     "execution_count": 32,
     "metadata": {},
     "output_type": "execute_result"
    },
    {
     "data": {
      "image/png": "[encoded data removed]",
      "text/plain": [
       "<matplotlib.figure.Figure at 0x38eceeb240>"
      ]
     },
     "metadata": {},
     "output_type": "display_data"
    }
   ],
   "source": [
    "#Solution to plotting multiple regressors\n",
    "fig, axis = plt.subplots(nrows=1, ncols=1, sharex=True)\n",
    "regressor1 = np.array([[1,45,0,1]])\n",
    "regressor2 = np.array([[1,23,1,1]])\n",
    "survival_1 = cf.predict_survival_function(regressor1)\n",
    "survival_2 = cf.predict_survival_function(regressor2)\n",
    "plt.plot(survival_1,label = \"32 year old male\")\n",
    "plt.plot(survival_2,label = \"46 year old female\")\n",
    "plt.legend(loc = \"lower left\")"
   ]
  },
  {
   "cell_type": "code",
   "execution_count": 34,
   "metadata": {
    "collapsed": false
   },
   "outputs": [
    {
     "data": {
      "text/plain": [
       "[<matplotlib.lines.Line2D at 0x38ecad6860>]"
      ]
     },
     "execution_count": 34,
     "metadata": {},
     "output_type": "execute_result"
    },
    {
     "data": {
      "image/png": "[encoded data removed]",
      "text/plain": [
       "<matplotlib.figure.Figure at 0x38ecf1b400>"
      ]
     },
     "metadata": {},
     "output_type": "display_data"
    }
   ],
   "source": [
    "#Difference in survival \n",
    "odds = survival_1 / survival_2\n",
    "plt.plot(odds, c = \"red\")"
   ]
  },
  {
   "cell_type": "markdown",
   "metadata": {},
   "source": [
    "Model selection\n",
    "\n",
    "Difficult to do with classic tools (here)\n",
    "\n",
    "Problem:\n",
    "\n",
    "    1 - Calculate the BMA coefficient values\n",
    "\n",
    "    2 - Compare these results to past the lifelines results\n",
    "    \n",
    "    3 - Try running with different priors"
   ]
  },
  {
   "cell_type": "code",
   "execution_count": 40,
   "metadata": {
    "collapsed": false
   },
   "outputs": [
    {
     "name": "stderr",
     "output_type": "stream",
     "text": [
      "C:\\Users\\j.coltman\\AppData\\Local\\Continuum\\Anaconda3\\lib\\site-packages\\lifelines\\fitters\\coxph_fitter.py:285: FutureWarning: sort(columns=....) is deprecated, use sort_values(by=.....)\n",
      "  df.sort(duration_col, inplace=True)\n"
     ]
    },
    {
     "data": {
      "text/plain": [
       "<pyBMA.CoxPHFitter.CoxPHFitter at 0x38edadaeb8>"
      ]
     },
     "execution_count": 40,
     "metadata": {},
     "output_type": "execute_result"
    }
   ],
   "source": [
    "\n",
    "##Solution to 1\n",
    "from pyBMA import CoxPHFitter\n",
    "bmaCox = pyBMA.CoxPHFitter.CoxPHFitter()\n",
    "bmaCox.fit(df, \"lifetime\", event_col= \"event\", priors= [0.5]*4)"
   ]
  },
  {
   "cell_type": "code",
   "execution_count": 41,
   "metadata": {
    "collapsed": false
   },
   "outputs": [
    {
     "name": "stdout",
     "output_type": "stream",
     "text": [
      "            coef  exp(coef)\n",
      "age    -0.000122   0.999878\n",
      "brand   0.000225   1.000225\n",
      "male    0.917887   2.503993\n",
      "search -1.050679   0.349700\n"
     ]
    }
   ],
   "source": [
    "print(bmaCox.summary)"
   ]
  },
  {
   "cell_type": "code",
   "execution_count": 42,
   "metadata": {
    "collapsed": false
   },
   "outputs": [
    {
     "name": "stderr",
     "output_type": "stream",
     "text": [
      "C:\\Users\\j.coltman\\AppData\\Local\\Continuum\\Anaconda3\\lib\\site-packages\\lifelines\\fitters\\coxph_fitter.py:285: FutureWarning: sort(columns=....) is deprecated, use sort_values(by=.....)\n",
      "  df.sort(duration_col, inplace=True)\n"
     ]
    },
    {
     "data": {
      "text/plain": [
       "<pyBMA.CoxPHFitter.CoxPHFitter at 0x38eee54ef0>"
      ]
     },
     "execution_count": 42,
     "metadata": {},
     "output_type": "execute_result"
    }
   ],
   "source": [
    "#Low probability for everything favours parsimonious models\n",
    "bmaCox = pyBMA.CoxPHFitter.CoxPHFitter()\n",
    "bmaCox.fit(df, \"lifetime\", event_col= \"event\", priors= [0.1]*4)\n",
    "print(bmaCox.summary)"
   ]
  },
  {
   "cell_type": "code",
   "execution_count": 43,
   "metadata": {
    "collapsed": false
   },
   "outputs": [
    {
     "name": "stdout",
     "output_type": "stream",
     "text": [
      "            coef  exp(coef)\n",
      "age    -0.000014   0.999986\n",
      "brand   0.000026   1.000026\n",
      "male    0.917881   2.503978\n",
      "search -1.050672   0.349703\n"
     ]
    }
   ],
   "source": [
    "#Low probability for everything favours parsimonious models\n",
    "bmaCox = pyBMA.CoxPHFitter.CoxPHFitter()\n",
    "bmaCox.fit(df, \"lifetime\", event_col= \"event\", priors= [0.9]*4)\n",
    "print(bmaCox.summary)"
   ]
  },
  {
   "cell_type": "code",
   "execution_count": 45,
   "metadata": {
    "collapsed": false
   },
   "outputs": [
    {
     "name": "stdout",
     "output_type": "stream",
     "text": [
      "            coef  exp(coef)\n",
      "age    -0.000967   0.999033\n",
      "brand   0.000085   1.000085\n",
      "male    0.917849   2.503900\n",
      "search -1.050716   0.349687\n"
     ]
    },
    {
     "name": "stderr",
     "output_type": "stream",
     "text": [
      "C:\\Users\\j.coltman\\AppData\\Local\\Continuum\\Anaconda3\\lib\\site-packages\\lifelines\\fitters\\coxph_fitter.py:285: FutureWarning: sort(columns=....) is deprecated, use sort_values(by=.....)\n",
      "  df.sort(duration_col, inplace=True)\n"
     ]
    }
   ],
   "source": [
    "#Low probability for everything favours parsimonious models\n",
    "bmaCox = pyBMA.CoxPHFitter.CoxPHFitter()\n",
    "bmaCox.fit(df, \"lifetime\", event_col= \"event\", priors= [0.3, 0.9, 0.001, 0.3])\n",
    "print(bmaCox.summary)"
   ]
  },
  {
   "cell_type": "code",
   "execution_count": null,
   "metadata": {
    "collapsed": true
   },
   "outputs": [],
   "source": []
  }
 ],
 "metadata": {
  "kernelspec": {
   "display_name": "Python 3",
   "language": "python",
   "name": "python3"
  },
  "language_info": {
   "codemirror_mode": {
    "name": "ipython",
    "version": 3
   },
   "file_extension": ".py",
   "mimetype": "text/x-python",
   "name": "python",
   "nbconvert_exporter": "python",
   "pygments_lexer": "ipython3",
   "version": "3.5.1"
  }
 },
 "nbformat": 4,
 "nbformat_minor": 0
}
