{
 "cells": [
  {
   "cell_type": "code",
   "execution_count": 118,
   "metadata": {
    "collapsed": true
   },
   "outputs": [],
   "source": [
    "import lifelines\n",
    "import pymc as pm\n",
    "from pyBMA.CoxPHFitter import CoxPHFitter\n",
    "import matplotlib.pyplot as plt\n",
    "import numpy as np\n",
    "from math import log\n",
    "import pandas as pd\n",
    "%matplotlib inline  "
   ]
  },
  {
   "cell_type": "markdown",
   "metadata": {},
   "source": [
    "The first step in any data analysis is acquiring and munging the data\n",
    "An example data set can be found HERE\n",
    "\n",
    "Download the file output.txt and transform it into a format like below where the event column should be 0 if there's only one entry for an id, and 1 if there are two entries:\n",
    "\n",
    "id,time_to_convert,age,male,event\n"
   ]
  },
  {
   "cell_type": "code",
   "execution_count": 119,
   "metadata": {
    "collapsed": false
   },
   "outputs": [
    {
     "data": {
      "text/html": [
       "<div>\n",
       "<table border=\"1\" class=\"dataframe\">\n",
       "  <thead>\n",
       "    <tr style=\"text-align: right;\">\n",
       "      <th></th>\n",
       "      <th>time_to_convert</th>\n",
       "      <th>age</th>\n",
       "      <th>male</th>\n",
       "      <th>event</th>\n",
       "    </tr>\n",
       "    <tr>\n",
       "      <th>id</th>\n",
       "      <th></th>\n",
       "      <th></th>\n",
       "      <th></th>\n",
       "      <th></th>\n",
       "    </tr>\n",
       "  </thead>\n",
       "  <tbody>\n",
       "    <tr>\n",
       "      <th>1</th>\n",
       "      <td>5.708086</td>\n",
       "      <td>52</td>\n",
       "      <td>0</td>\n",
       "      <td>1</td>\n",
       "    </tr>\n",
       "    <tr>\n",
       "      <th>2</th>\n",
       "      <td>23.000000</td>\n",
       "      <td>46</td>\n",
       "      <td>0</td>\n",
       "      <td>0</td>\n",
       "    </tr>\n",
       "    <tr>\n",
       "      <th>3</th>\n",
       "      <td>18.737505</td>\n",
       "      <td>30</td>\n",
       "      <td>0</td>\n",
       "      <td>1</td>\n",
       "    </tr>\n",
       "    <tr>\n",
       "      <th>4</th>\n",
       "      <td>9.208114</td>\n",
       "      <td>40</td>\n",
       "      <td>0</td>\n",
       "      <td>1</td>\n",
       "    </tr>\n",
       "    <tr>\n",
       "      <th>5</th>\n",
       "      <td>23.000000</td>\n",
       "      <td>56</td>\n",
       "      <td>0</td>\n",
       "      <td>0</td>\n",
       "    </tr>\n",
       "    <tr>\n",
       "      <th>6</th>\n",
       "      <td>6.379550</td>\n",
       "      <td>33</td>\n",
       "      <td>1</td>\n",
       "      <td>1</td>\n",
       "    </tr>\n",
       "    <tr>\n",
       "      <th>7</th>\n",
       "      <td>16.898850</td>\n",
       "      <td>56</td>\n",
       "      <td>0</td>\n",
       "      <td>1</td>\n",
       "    </tr>\n",
       "    <tr>\n",
       "      <th>8</th>\n",
       "      <td>16.706676</td>\n",
       "      <td>29</td>\n",
       "      <td>0</td>\n",
       "      <td>1</td>\n",
       "    </tr>\n",
       "    <tr>\n",
       "      <th>9</th>\n",
       "      <td>10.129094</td>\n",
       "      <td>30</td>\n",
       "      <td>1</td>\n",
       "      <td>1</td>\n",
       "    </tr>\n",
       "    <tr>\n",
       "      <th>10</th>\n",
       "      <td>8.309254</td>\n",
       "      <td>26</td>\n",
       "      <td>0</td>\n",
       "      <td>1</td>\n",
       "    </tr>\n",
       "    <tr>\n",
       "      <th>11</th>\n",
       "      <td>11.669010</td>\n",
       "      <td>57</td>\n",
       "      <td>0</td>\n",
       "      <td>1</td>\n",
       "    </tr>\n",
       "    <tr>\n",
       "      <th>12</th>\n",
       "      <td>7.040615</td>\n",
       "      <td>18</td>\n",
       "      <td>0</td>\n",
       "      <td>1</td>\n",
       "    </tr>\n",
       "    <tr>\n",
       "      <th>13</th>\n",
       "      <td>17.282173</td>\n",
       "      <td>28</td>\n",
       "      <td>0</td>\n",
       "      <td>1</td>\n",
       "    </tr>\n",
       "    <tr>\n",
       "      <th>14</th>\n",
       "      <td>2.076907</td>\n",
       "      <td>31</td>\n",
       "      <td>1</td>\n",
       "      <td>1</td>\n",
       "    </tr>\n",
       "    <tr>\n",
       "      <th>15</th>\n",
       "      <td>7.617377</td>\n",
       "      <td>26</td>\n",
       "      <td>0</td>\n",
       "      <td>1</td>\n",
       "    </tr>\n",
       "    <tr>\n",
       "      <th>16</th>\n",
       "      <td>9.538880</td>\n",
       "      <td>58</td>\n",
       "      <td>1</td>\n",
       "      <td>1</td>\n",
       "    </tr>\n",
       "    <tr>\n",
       "      <th>17</th>\n",
       "      <td>4.064051</td>\n",
       "      <td>52</td>\n",
       "      <td>1</td>\n",
       "      <td>1</td>\n",
       "    </tr>\n",
       "    <tr>\n",
       "      <th>18</th>\n",
       "      <td>12.771890</td>\n",
       "      <td>56</td>\n",
       "      <td>0</td>\n",
       "      <td>1</td>\n",
       "    </tr>\n",
       "    <tr>\n",
       "      <th>19</th>\n",
       "      <td>10.302741</td>\n",
       "      <td>18</td>\n",
       "      <td>0</td>\n",
       "      <td>1</td>\n",
       "    </tr>\n",
       "    <tr>\n",
       "      <th>20</th>\n",
       "      <td>15.747193</td>\n",
       "      <td>20</td>\n",
       "      <td>0</td>\n",
       "      <td>1</td>\n",
       "    </tr>\n",
       "    <tr>\n",
       "      <th>21</th>\n",
       "      <td>1.604930</td>\n",
       "      <td>33</td>\n",
       "      <td>1</td>\n",
       "      <td>1</td>\n",
       "    </tr>\n",
       "    <tr>\n",
       "      <th>22</th>\n",
       "      <td>6.308343</td>\n",
       "      <td>50</td>\n",
       "      <td>1</td>\n",
       "      <td>1</td>\n",
       "    </tr>\n",
       "    <tr>\n",
       "      <th>23</th>\n",
       "      <td>6.943318</td>\n",
       "      <td>46</td>\n",
       "      <td>0</td>\n",
       "      <td>1</td>\n",
       "    </tr>\n",
       "    <tr>\n",
       "      <th>24</th>\n",
       "      <td>4.821363</td>\n",
       "      <td>30</td>\n",
       "      <td>1</td>\n",
       "      <td>1</td>\n",
       "    </tr>\n",
       "    <tr>\n",
       "      <th>25</th>\n",
       "      <td>12.833062</td>\n",
       "      <td>54</td>\n",
       "      <td>1</td>\n",
       "      <td>1</td>\n",
       "    </tr>\n",
       "    <tr>\n",
       "      <th>26</th>\n",
       "      <td>6.695690</td>\n",
       "      <td>44</td>\n",
       "      <td>1</td>\n",
       "      <td>1</td>\n",
       "    </tr>\n",
       "    <tr>\n",
       "      <th>27</th>\n",
       "      <td>12.444210</td>\n",
       "      <td>53</td>\n",
       "      <td>1</td>\n",
       "      <td>1</td>\n",
       "    </tr>\n",
       "    <tr>\n",
       "      <th>28</th>\n",
       "      <td>14.971877</td>\n",
       "      <td>52</td>\n",
       "      <td>0</td>\n",
       "      <td>1</td>\n",
       "    </tr>\n",
       "    <tr>\n",
       "      <th>29</th>\n",
       "      <td>13.183176</td>\n",
       "      <td>49</td>\n",
       "      <td>1</td>\n",
       "      <td>1</td>\n",
       "    </tr>\n",
       "    <tr>\n",
       "      <th>30</th>\n",
       "      <td>23.000000</td>\n",
       "      <td>53</td>\n",
       "      <td>0</td>\n",
       "      <td>0</td>\n",
       "    </tr>\n",
       "    <tr>\n",
       "      <th>...</th>\n",
       "      <td>...</td>\n",
       "      <td>...</td>\n",
       "      <td>...</td>\n",
       "      <td>...</td>\n",
       "    </tr>\n",
       "    <tr>\n",
       "      <th>2971</th>\n",
       "      <td>16.026410</td>\n",
       "      <td>33</td>\n",
       "      <td>0</td>\n",
       "      <td>1</td>\n",
       "    </tr>\n",
       "    <tr>\n",
       "      <th>2972</th>\n",
       "      <td>14.626309</td>\n",
       "      <td>32</td>\n",
       "      <td>0</td>\n",
       "      <td>1</td>\n",
       "    </tr>\n",
       "    <tr>\n",
       "      <th>2973</th>\n",
       "      <td>1.800685</td>\n",
       "      <td>42</td>\n",
       "      <td>1</td>\n",
       "      <td>1</td>\n",
       "    </tr>\n",
       "    <tr>\n",
       "      <th>2974</th>\n",
       "      <td>16.030641</td>\n",
       "      <td>21</td>\n",
       "      <td>0</td>\n",
       "      <td>1</td>\n",
       "    </tr>\n",
       "    <tr>\n",
       "      <th>2975</th>\n",
       "      <td>5.823664</td>\n",
       "      <td>54</td>\n",
       "      <td>0</td>\n",
       "      <td>1</td>\n",
       "    </tr>\n",
       "    <tr>\n",
       "      <th>2976</th>\n",
       "      <td>12.306423</td>\n",
       "      <td>36</td>\n",
       "      <td>1</td>\n",
       "      <td>1</td>\n",
       "    </tr>\n",
       "    <tr>\n",
       "      <th>2977</th>\n",
       "      <td>5.004961</td>\n",
       "      <td>19</td>\n",
       "      <td>1</td>\n",
       "      <td>1</td>\n",
       "    </tr>\n",
       "    <tr>\n",
       "      <th>2978</th>\n",
       "      <td>10.572587</td>\n",
       "      <td>57</td>\n",
       "      <td>1</td>\n",
       "      <td>1</td>\n",
       "    </tr>\n",
       "    <tr>\n",
       "      <th>2979</th>\n",
       "      <td>3.534339</td>\n",
       "      <td>19</td>\n",
       "      <td>0</td>\n",
       "      <td>1</td>\n",
       "    </tr>\n",
       "    <tr>\n",
       "      <th>2980</th>\n",
       "      <td>12.239612</td>\n",
       "      <td>43</td>\n",
       "      <td>0</td>\n",
       "      <td>1</td>\n",
       "    </tr>\n",
       "    <tr>\n",
       "      <th>2981</th>\n",
       "      <td>23.000000</td>\n",
       "      <td>26</td>\n",
       "      <td>0</td>\n",
       "      <td>0</td>\n",
       "    </tr>\n",
       "    <tr>\n",
       "      <th>2982</th>\n",
       "      <td>10.253771</td>\n",
       "      <td>28</td>\n",
       "      <td>0</td>\n",
       "      <td>1</td>\n",
       "    </tr>\n",
       "    <tr>\n",
       "      <th>2983</th>\n",
       "      <td>8.291751</td>\n",
       "      <td>56</td>\n",
       "      <td>0</td>\n",
       "      <td>1</td>\n",
       "    </tr>\n",
       "    <tr>\n",
       "      <th>2984</th>\n",
       "      <td>3.994400</td>\n",
       "      <td>20</td>\n",
       "      <td>1</td>\n",
       "      <td>1</td>\n",
       "    </tr>\n",
       "    <tr>\n",
       "      <th>2985</th>\n",
       "      <td>9.225224</td>\n",
       "      <td>45</td>\n",
       "      <td>0</td>\n",
       "      <td>1</td>\n",
       "    </tr>\n",
       "    <tr>\n",
       "      <th>2986</th>\n",
       "      <td>11.519483</td>\n",
       "      <td>46</td>\n",
       "      <td>0</td>\n",
       "      <td>1</td>\n",
       "    </tr>\n",
       "    <tr>\n",
       "      <th>2987</th>\n",
       "      <td>7.667640</td>\n",
       "      <td>53</td>\n",
       "      <td>0</td>\n",
       "      <td>1</td>\n",
       "    </tr>\n",
       "    <tr>\n",
       "      <th>2988</th>\n",
       "      <td>1.482344</td>\n",
       "      <td>50</td>\n",
       "      <td>1</td>\n",
       "      <td>1</td>\n",
       "    </tr>\n",
       "    <tr>\n",
       "      <th>2989</th>\n",
       "      <td>15.818379</td>\n",
       "      <td>38</td>\n",
       "      <td>0</td>\n",
       "      <td>1</td>\n",
       "    </tr>\n",
       "    <tr>\n",
       "      <th>2990</th>\n",
       "      <td>2.704105</td>\n",
       "      <td>20</td>\n",
       "      <td>1</td>\n",
       "      <td>1</td>\n",
       "    </tr>\n",
       "    <tr>\n",
       "      <th>2991</th>\n",
       "      <td>6.798878</td>\n",
       "      <td>54</td>\n",
       "      <td>0</td>\n",
       "      <td>1</td>\n",
       "    </tr>\n",
       "    <tr>\n",
       "      <th>2992</th>\n",
       "      <td>13.040823</td>\n",
       "      <td>30</td>\n",
       "      <td>0</td>\n",
       "      <td>1</td>\n",
       "    </tr>\n",
       "    <tr>\n",
       "      <th>2993</th>\n",
       "      <td>14.327820</td>\n",
       "      <td>51</td>\n",
       "      <td>0</td>\n",
       "      <td>1</td>\n",
       "    </tr>\n",
       "    <tr>\n",
       "      <th>2994</th>\n",
       "      <td>19.034908</td>\n",
       "      <td>41</td>\n",
       "      <td>0</td>\n",
       "      <td>1</td>\n",
       "    </tr>\n",
       "    <tr>\n",
       "      <th>2995</th>\n",
       "      <td>14.033518</td>\n",
       "      <td>45</td>\n",
       "      <td>0</td>\n",
       "      <td>1</td>\n",
       "    </tr>\n",
       "    <tr>\n",
       "      <th>2996</th>\n",
       "      <td>14.035457</td>\n",
       "      <td>43</td>\n",
       "      <td>1</td>\n",
       "      <td>1</td>\n",
       "    </tr>\n",
       "    <tr>\n",
       "      <th>2997</th>\n",
       "      <td>13.683910</td>\n",
       "      <td>26</td>\n",
       "      <td>0</td>\n",
       "      <td>1</td>\n",
       "    </tr>\n",
       "    <tr>\n",
       "      <th>2998</th>\n",
       "      <td>5.791682</td>\n",
       "      <td>40</td>\n",
       "      <td>1</td>\n",
       "      <td>1</td>\n",
       "    </tr>\n",
       "    <tr>\n",
       "      <th>2999</th>\n",
       "      <td>2.041126</td>\n",
       "      <td>49</td>\n",
       "      <td>1</td>\n",
       "      <td>1</td>\n",
       "    </tr>\n",
       "    <tr>\n",
       "      <th>3000</th>\n",
       "      <td>23.000000</td>\n",
       "      <td>28</td>\n",
       "      <td>0</td>\n",
       "      <td>0</td>\n",
       "    </tr>\n",
       "  </tbody>\n",
       "</table>\n",
       "<p>3000 rows × 4 columns</p>\n",
       "</div>"
      ],
      "text/plain": [
       "      time_to_convert  age  male  event\n",
       "id                                     \n",
       "1            5.708086   52     0      1\n",
       "2           23.000000   46     0      0\n",
       "3           18.737505   30     0      1\n",
       "4            9.208114   40     0      1\n",
       "5           23.000000   56     0      0\n",
       "6            6.379550   33     1      1\n",
       "7           16.898850   56     0      1\n",
       "8           16.706676   29     0      1\n",
       "9           10.129094   30     1      1\n",
       "10           8.309254   26     0      1\n",
       "11          11.669010   57     0      1\n",
       "12           7.040615   18     0      1\n",
       "13          17.282173   28     0      1\n",
       "14           2.076907   31     1      1\n",
       "15           7.617377   26     0      1\n",
       "16           9.538880   58     1      1\n",
       "17           4.064051   52     1      1\n",
       "18          12.771890   56     0      1\n",
       "19          10.302741   18     0      1\n",
       "20          15.747193   20     0      1\n",
       "21           1.604930   33     1      1\n",
       "22           6.308343   50     1      1\n",
       "23           6.943318   46     0      1\n",
       "24           4.821363   30     1      1\n",
       "25          12.833062   54     1      1\n",
       "26           6.695690   44     1      1\n",
       "27          12.444210   53     1      1\n",
       "28          14.971877   52     0      1\n",
       "29          13.183176   49     1      1\n",
       "30          23.000000   53     0      0\n",
       "...               ...  ...   ...    ...\n",
       "2971        16.026410   33     0      1\n",
       "2972        14.626309   32     0      1\n",
       "2973         1.800685   42     1      1\n",
       "2974        16.030641   21     0      1\n",
       "2975         5.823664   54     0      1\n",
       "2976        12.306423   36     1      1\n",
       "2977         5.004961   19     1      1\n",
       "2978        10.572587   57     1      1\n",
       "2979         3.534339   19     0      1\n",
       "2980        12.239612   43     0      1\n",
       "2981        23.000000   26     0      0\n",
       "2982        10.253771   28     0      1\n",
       "2983         8.291751   56     0      1\n",
       "2984         3.994400   20     1      1\n",
       "2985         9.225224   45     0      1\n",
       "2986        11.519483   46     0      1\n",
       "2987         7.667640   53     0      1\n",
       "2988         1.482344   50     1      1\n",
       "2989        15.818379   38     0      1\n",
       "2990         2.704105   20     1      1\n",
       "2991         6.798878   54     0      1\n",
       "2992        13.040823   30     0      1\n",
       "2993        14.327820   51     0      1\n",
       "2994        19.034908   41     0      1\n",
       "2995        14.033518   45     0      1\n",
       "2996        14.035457   43     1      1\n",
       "2997        13.683910   26     0      1\n",
       "2998         5.791682   40     1      1\n",
       "2999         2.041126   49     1      1\n",
       "3000        23.000000   28     0      0\n",
       "\n",
       "[3000 rows x 4 columns]"
      ]
     },
     "execution_count": 119,
     "metadata": {},
     "output_type": "execute_result"
    }
   ],
   "source": [
    "#Solution to part one:\n",
    "def convert_to_minutes(dt):\n",
    "    day_diff = dt / np.timedelta64(1, 'D')\n",
    "    if day_diff == 0:\n",
    "        return 23.0\n",
    "    else: \n",
    "        return day_diff\n",
    "base_df = pd.read_csv(\"E:/output.txt\")\n",
    "base_df[\"time_to_convert\"] = pd.to_datetime(base_df['datetime'])\n",
    "base_df = base_df.drop('datetime', 1)\n",
    "time_deltas = base_df.groupby(by = \"id\").max() - base_df.groupby(by = \"id\").min()\n",
    "df = time_deltas[\"time_to_convert\"].apply(convert_to_minutes).to_frame()\n",
    "grouped_base = base_df.groupby(by = \"id\").max()\n",
    "df[\"age\"] = grouped_base[\"age\"]\n",
    "df[\"male\"] = grouped_base[\"male\"]\n",
    "df[\"event\"] = df[\"time_to_convert\"] == 23.0\n",
    "df[\"event\"] = df[\"event\"].apply(lambda x: 0 if x else 1)"
   ]
  },
  {
   "cell_type": "code",
   "execution_count": null,
   "metadata": {
    "collapsed": true
   },
   "outputs": [],
   "source": [
    "###Parametric Bayes\n",
    "#Shout out to Cam Davidson-Pilon"
   ]
  },
  {
   "cell_type": "code",
   "execution_count": 122,
   "metadata": {
    "collapsed": false
   },
   "outputs": [
    {
     "name": "stdout",
     "output_type": "stream",
     "text": [
      " [-----------------100%-----------------] 5000 of 5000 complete in 2.1 sec"
     ]
    }
   ],
   "source": [
    "## Example fully worked model using toy data\n",
    "## Adapted from http://blog.yhat.com/posts/estimating-user-lifetimes-with-pymc.html\n",
    "\n",
    "alpha = pm.Uniform(\"alpha\", 0,20) \n",
    "beta = pm.Uniform(\"beta\", 0,20) \n",
    "obs = pm.Weibull('obs', alpha, beta, value = df[\"time_to_convert\"], observed = True )\n",
    "obs.random\n",
    "@pm.potential\n",
    "def censorfactor(obs=obs): \n",
    "    if np.any(obs>23 ): \n",
    "        return -100000\n",
    "    else:\n",
    "        return 0\n",
    "\n",
    "mcmc = pm.MCMC([alpha, beta, obs, censorfactor ] )\n",
    "mcmc.sample(5000, burn = 0, thin = 1)"
   ]
  },
  {
   "cell_type": "code",
   "execution_count": 123,
   "metadata": {
    "collapsed": false
   },
   "outputs": [
    {
     "name": "stdout",
     "output_type": "stream",
     "text": [
      "Plotting alpha\n",
      "Plotting beta\n"
     ]
    },
    {
     "data": {
      "image/png": "[encoded data removed]",
      "text/plain": [
       "<matplotlib.figure.Figure at 0xbe73e97c88>"
      ]
     },
     "metadata": {},
     "output_type": "display_data"
    },
    {
     "data": {
      "image/png": "[encoded data removed]",
      "text/plain": [
       "<matplotlib.figure.Figure at 0xbe7284c828>"
      ]
     },
     "metadata": {},
     "output_type": "display_data"
    }
   ],
   "source": [
    "pm.Matplot.plot(mcmc)"
   ]
  },
  {
   "cell_type": "markdown",
   "metadata": {},
   "source": [
    "Problems: \n",
    "\n",
    "    1 - Work out the mean observed time to convert\n",
    "    2 - Try to fit your data from section 1 \n",
    "    3 - Use the results to plot the distribution of the median\n",
    "    4 - Try adjusting the number of samples, the burn parameter and the amount of thinning to correct get good answers\n",
    "    5 - Try adjusting the prior and see how it affects the estimate\n",
    "    6 - Try to fit a different distribution to the data\n",
    "    7 - Compare answers\n",
    "    Bonus - test the hypothesis that the true median is greater than a certain amount\n",
    "    \n",
    "For question 2, note that the median of a Weibull is:\n",
    "\n",
    "$$β(log 2)^{1/α}$$\n",
    "    "
   ]
  },
  {
   "cell_type": "code",
   "execution_count": 124,
   "metadata": {
    "collapsed": false
   },
   "outputs": [
    {
     "data": {
      "text/plain": [
       "(array([  1.00000000e+00,   5.00000000e+00,   0.00000000e+00,\n",
       "          0.00000000e+00,   0.00000000e+00,   0.00000000e+00,\n",
       "          1.10000000e+01,   1.14300000e+03,   3.02800000e+03,\n",
       "          8.12000000e+02]),\n",
       " array([ 7.37808277,  7.58792942,  7.79777607,  8.00762273,  8.21746938,\n",
       "         8.42731604,  8.63716269,  8.84700934,  9.056856  ,  9.26670265,\n",
       "         9.47654931]),\n",
       " <a list of 10 Patch objects>)"
      ]
     },
     "execution_count": 124,
     "metadata": {},
     "output_type": "execute_result"
    },
    {
     "data": {
      "image/png": "[encoded data removed]",
      "text/plain": [
       "<matplotlib.figure.Figure at 0xbe728a6518>"
      ]
     },
     "metadata": {},
     "output_type": "display_data"
    }
   ],
   "source": [
    "#Solution to question 4:\n",
    "def weibull_median(alpha, beta):\n",
    "    return beta * ((log(2)) ** ( 1 / alpha))\n",
    "plt.hist([weibull_median(x[0], x[1]) for x in zip(mcmc.trace(\"alpha\"), mcmc.trace(\"beta\"))])"
   ]
  },
  {
   "cell_type": "code",
   "execution_count": 125,
   "metadata": {
    "collapsed": false
   },
   "outputs": [
    {
     "name": "stdout",
     "output_type": "stream",
     "text": [
      " [-----------------100%-----------------] 50000 of 50000 complete in 21.5 secPlotting alpha\n",
      "Plotting beta\n"
     ]
    },
    {
     "data": {
      "image/png": "[encoded data removed]",
      "text/plain": [
       "<matplotlib.figure.Figure at 0xbe7136d470>"
      ]
     },
     "metadata": {},
     "output_type": "display_data"
    },
    {
     "data": {
      "image/png": "[encoded data removed]",
      "text/plain": [
       "<matplotlib.figure.Figure at 0xbe73c31438>"
      ]
     },
     "metadata": {},
     "output_type": "display_data"
    }
   ],
   "source": [
    "#Solution to question 4:\n",
    "### Increasing the burn parameter allows us to discard results before convergence\n",
    "### Thinning the results removes autocorrelation\n",
    "\n",
    "mcmc = pm.MCMC([alpha, beta, obs, censorfactor ] )\n",
    "mcmc.sample(50000, burn = 30000, thin = 20)\n",
    "\n",
    "pm.Matplot.plot(mcmc)"
   ]
  },
  {
   "cell_type": "code",
   "execution_count": 126,
   "metadata": {
    "collapsed": false
   },
   "outputs": [
    {
     "name": "stdout",
     "output_type": "stream",
     "text": [
      " [-----------------100%-----------------] 10000 of 10000 complete in 3.8 secPlotting beta\n",
      "Plotting alpha\n"
     ]
    },
    {
     "data": {
      "image/png": "[encoded data removed]",
      "text/plain": [
       "<matplotlib.figure.Figure at 0xbe70db8ac8>"
      ]
     },
     "metadata": {},
     "output_type": "display_data"
    },
    {
     "data": {
      "image/png": "[encoded data removed]",
      "text/plain": [
       "<matplotlib.figure.Figure at 0xbe70f33b38>"
      ]
     },
     "metadata": {},
     "output_type": "display_data"
    }
   ],
   "source": [
    "#Solution to Q5\n",
    "## Adjusting the priors impacts the overall result\n",
    "## If we give a looser, less informative prior then we end up with a broader, shorter distribution\n",
    "## If we give much more informative priors, then we get a tighter, taller distribution\n",
    "\n",
    "\n",
    "## Note the narrowing of the prior\n",
    "#alpha = pm.Uniform(\"alpha\", 2.5, 4.5) \n",
    "#beta = pm.Uniform(\"beta\", 14, 15) \n",
    "\n",
    "####Uncomment this to see the result of looser priors\n",
    "alpha = pm.Uniform(\"alpha\", 0, 30) \n",
    "beta = pm.Uniform(\"beta\", 0, 30) \n",
    "\n",
    "obs = pm.Weibull( 'obs', alpha, beta, value = df[\"time_to_convert\"], observed = True )\n",
    "\n",
    "mcmc = pm.MCMC([alpha, beta, obs, censorfactor ] )\n",
    "mcmc.sample(10000, burn = 100, thin = 20)\n",
    "pm.Matplot.plot(mcmc)\n",
    "#plt.hist([weibull_median(x[0], x[1]) for x in zip(mcmc.trace(\"alpha\"), mcmc.trace(\"beta\"))])"
   ]
  },
  {
   "cell_type": "code",
   "execution_count": 127,
   "metadata": {
    "collapsed": false
   },
   "outputs": [
    {
     "name": "stdout",
     "output_type": "stream",
     "text": [
      " [-----------------100%-----------------] 50000 of 50000 complete in 7.2 sec"
     ]
    },
    {
     "data": {
      "text/plain": [
       "(array([   2.,   33.,   81.,  198.,  253.,  252.,  126.,   44.,    9.,    2.]),\n",
       " array([  9.91766868,   9.99304324,  10.06841781,  10.14379237,\n",
       "         10.21916693,  10.2945415 ,  10.36991606,  10.44529063,\n",
       "         10.52066519,  10.59603975,  10.67141432]),\n",
       " <a list of 10 Patch objects>)"
      ]
     },
     "execution_count": 127,
     "metadata": {},
     "output_type": "execute_result"
    },
    {
     "data": {
      "image/png": "[encoded data removed]",
      "text/plain": [
       "<matplotlib.figure.Figure at 0xbe70f447f0>"
      ]
     },
     "metadata": {},
     "output_type": "display_data"
    }
   ],
   "source": [
    "#Solution to Q6\n",
    "## To fit a new distribution to the data, we need to change the obs variable to a new distribution.\n",
    "## This requires creating new hyper parameters,\n",
    "## The normal distribution has two parameters, the mean and the stdev (we use 1/stdev in pymc)\n",
    "\n",
    "import pymc as mc\n",
    "import numpy.ma as ma\n",
    "\n",
    "#this begins the model \n",
    "alpha = pm.Uniform(\"mean\", 0,15) \n",
    "tau = pm.Uniform(\"tau\", 0, 3)\n",
    "obs = pm.Normal( 'obs', alpha, tau, value = df[\"time_to_convert\"], observed = True )\n",
    "\n",
    "mcmc = pm.MCMC([alpha, tau, obs, censorfactor ] )\n",
    "mcmc.sample(50000, burn = 30000, thin = 20)\n",
    "#pm.Matplot.plot(mcmc)\n",
    "plt.hist(mcmc.trace(\"mean\")[:])"
   ]
  },
  {
   "cell_type": "code",
   "execution_count": 128,
   "metadata": {
    "collapsed": false
   },
   "outputs": [
    {
     "data": {
      "text/plain": [
       "99.700000000000003"
      ]
     },
     "execution_count": 128,
     "metadata": {},
     "output_type": "execute_result"
    }
   ],
   "source": [
    "## Solution to bonus\n",
    "## Super easy to do in the Bayesian framework, all we need to do is look at what % of samples\n",
    "## meet our criteria\n",
    "\n",
    "testing_value = 10\n",
    "number_of_greater_samples = sum([x >= testing_value for x in mcmc.trace(\"mean\")[:]])\n",
    "100 * (number_of_greater_samples / len(mcmc.trace(\"mean\")[:]))"
   ]
  },
  {
   "cell_type": "code",
   "execution_count": null,
   "metadata": {
    "collapsed": true
   },
   "outputs": [],
   "source": [
    "#Cox model"
   ]
  },
  {
   "cell_type": "markdown",
   "metadata": {},
   "source": [
    "If we want to look at covariates, we need a new approach.  We'll use Cox proprtional hazards.  More information here."
   ]
  },
  {
   "cell_type": "code",
   "execution_count": 129,
   "metadata": {
    "collapsed": false
   },
   "outputs": [
    {
     "name": "stderr",
     "output_type": "stream",
     "text": [
      "C:\\Users\\j.coltman\\AppData\\Local\\Continuum\\Anaconda3\\lib\\site-packages\\lifelines\\fitters\\coxph_fitter.py:285: FutureWarning: sort(columns=....) is deprecated, use sort_values(by=.....)\n",
      "  df.sort(duration_col, inplace=True)\n"
     ]
    },
    {
     "data": {
      "text/html": [
       "<div>\n",
       "<table border=\"1\" class=\"dataframe\">\n",
       "  <thead>\n",
       "    <tr style=\"text-align: right;\">\n",
       "      <th></th>\n",
       "      <th>coef</th>\n",
       "      <th>exp(coef)</th>\n",
       "      <th>se(coef)</th>\n",
       "      <th>z</th>\n",
       "      <th>p</th>\n",
       "      <th>lower 0.95</th>\n",
       "      <th>upper 0.95</th>\n",
       "    </tr>\n",
       "  </thead>\n",
       "  <tbody>\n",
       "    <tr>\n",
       "      <th>age</th>\n",
       "      <td>-0.005102</td>\n",
       "      <td>0.994911</td>\n",
       "      <td>0.018460</td>\n",
       "      <td>-0.276361</td>\n",
       "      <td>0.78227</td>\n",
       "      <td>-0.041291</td>\n",
       "      <td>0.031088</td>\n",
       "    </tr>\n",
       "    <tr>\n",
       "      <th>male</th>\n",
       "      <td>0.858802</td>\n",
       "      <td>2.360331</td>\n",
       "      <td>0.021593</td>\n",
       "      <td>39.772713</td>\n",
       "      <td>0.00000</td>\n",
       "      <td>0.816472</td>\n",
       "      <td>0.901132</td>\n",
       "    </tr>\n",
       "  </tbody>\n",
       "</table>\n",
       "</div>"
      ],
      "text/plain": [
       "          coef  exp(coef)  se(coef)          z        p  lower 0.95  \\\n",
       "age  -0.005102   0.994911  0.018460  -0.276361  0.78227   -0.041291   \n",
       "male  0.858802   2.360331  0.021593  39.772713  0.00000    0.816472   \n",
       "\n",
       "      upper 0.95  \n",
       "age     0.031088  \n",
       "male    0.901132  "
      ]
     },
     "execution_count": 129,
     "metadata": {},
     "output_type": "execute_result"
    }
   ],
   "source": [
    "#Fitting solution\n",
    "cf = lifelines.CoxPHFitter()\n",
    "cf.fit(df, 'time_to_convert', event_col = 'event')\n",
    "cf.summary"
   ]
  },
  {
   "cell_type": "markdown",
   "metadata": {},
   "source": [
    "Once we've fit the data, we need to do something useful with it.  Try to do the following things:\n",
    "\n",
    "    1 - Plot the baseline survival function\n",
    "\n",
    "    2 - Predict the functions for a particular set of regressors\n",
    "\n",
    "    3 - Plot the survival function for two different set of regressors\n",
    "\n",
    "    4 - For your results in part 3 caculate how much more likely a death event is for one than the other for a given period of time"
   ]
  },
  {
   "cell_type": "code",
   "execution_count": 130,
   "metadata": {
    "collapsed": false
   },
   "outputs": [
    {
     "data": {
      "text/plain": [
       "<matplotlib.axes._subplots.AxesSubplot at 0xbe71342cc0>"
      ]
     },
     "execution_count": 130,
     "metadata": {},
     "output_type": "execute_result"
    },
    {
     "data": {
      "image/png": "[encoded data removed]",
      "text/plain": [
       "<matplotlib.figure.Figure at 0xbe73c1c780>"
      ]
     },
     "metadata": {},
     "output_type": "display_data"
    }
   ],
   "source": [
    "#Solution to 1\n",
    "fig, axis = plt.subplots(nrows=1, ncols=1, sharex=True, sharey = True)\n",
    "cf.baseline_survival_.plot(ax = axis, title = \"Baseline Survival\")"
   ]
  },
  {
   "cell_type": "code",
   "execution_count": 131,
   "metadata": {
    "collapsed": false
   },
   "outputs": [
    {
     "data": {
      "text/html": [
       "<div>\n",
       "<table border=\"1\" class=\"dataframe\">\n",
       "  <thead>\n",
       "    <tr style=\"text-align: right;\">\n",
       "      <th></th>\n",
       "      <th>0</th>\n",
       "    </tr>\n",
       "    <tr>\n",
       "      <th>event_at</th>\n",
       "      <th></th>\n",
       "    </tr>\n",
       "  </thead>\n",
       "  <tbody>\n",
       "    <tr>\n",
       "      <th>0.000000</th>\n",
       "      <td>1.000000</td>\n",
       "    </tr>\n",
       "    <tr>\n",
       "      <th>1.001123</th>\n",
       "      <td>0.999885</td>\n",
       "    </tr>\n",
       "    <tr>\n",
       "      <th>1.002077</th>\n",
       "      <td>0.999771</td>\n",
       "    </tr>\n",
       "    <tr>\n",
       "      <th>1.004098</th>\n",
       "      <td>0.999656</td>\n",
       "    </tr>\n",
       "    <tr>\n",
       "      <th>1.009505</th>\n",
       "      <td>0.999541</td>\n",
       "    </tr>\n",
       "    <tr>\n",
       "      <th>1.010474</th>\n",
       "      <td>0.999426</td>\n",
       "    </tr>\n",
       "    <tr>\n",
       "      <th>1.012175</th>\n",
       "      <td>0.999311</td>\n",
       "    </tr>\n",
       "    <tr>\n",
       "      <th>1.012853</th>\n",
       "      <td>0.999196</td>\n",
       "    </tr>\n",
       "    <tr>\n",
       "      <th>1.013900</th>\n",
       "      <td>0.999081</td>\n",
       "    </tr>\n",
       "    <tr>\n",
       "      <th>1.016216</th>\n",
       "      <td>0.998966</td>\n",
       "    </tr>\n",
       "    <tr>\n",
       "      <th>1.016382</th>\n",
       "      <td>0.998851</td>\n",
       "    </tr>\n",
       "    <tr>\n",
       "      <th>1.020595</th>\n",
       "      <td>0.998736</td>\n",
       "    </tr>\n",
       "    <tr>\n",
       "      <th>1.024729</th>\n",
       "      <td>0.998620</td>\n",
       "    </tr>\n",
       "    <tr>\n",
       "      <th>1.024735</th>\n",
       "      <td>0.998505</td>\n",
       "    </tr>\n",
       "    <tr>\n",
       "      <th>1.026838</th>\n",
       "      <td>0.998390</td>\n",
       "    </tr>\n",
       "    <tr>\n",
       "      <th>1.036091</th>\n",
       "      <td>0.998274</td>\n",
       "    </tr>\n",
       "    <tr>\n",
       "      <th>1.036964</th>\n",
       "      <td>0.998158</td>\n",
       "    </tr>\n",
       "    <tr>\n",
       "      <th>1.038674</th>\n",
       "      <td>0.998043</td>\n",
       "    </tr>\n",
       "    <tr>\n",
       "      <th>1.039048</th>\n",
       "      <td>0.997927</td>\n",
       "    </tr>\n",
       "    <tr>\n",
       "      <th>1.039070</th>\n",
       "      <td>0.997811</td>\n",
       "    </tr>\n",
       "    <tr>\n",
       "      <th>1.039292</th>\n",
       "      <td>0.997696</td>\n",
       "    </tr>\n",
       "    <tr>\n",
       "      <th>1.042097</th>\n",
       "      <td>0.997580</td>\n",
       "    </tr>\n",
       "    <tr>\n",
       "      <th>1.043427</th>\n",
       "      <td>0.997464</td>\n",
       "    </tr>\n",
       "    <tr>\n",
       "      <th>1.044309</th>\n",
       "      <td>0.997348</td>\n",
       "    </tr>\n",
       "    <tr>\n",
       "      <th>1.046089</th>\n",
       "      <td>0.997232</td>\n",
       "    </tr>\n",
       "    <tr>\n",
       "      <th>1.047903</th>\n",
       "      <td>0.997115</td>\n",
       "    </tr>\n",
       "    <tr>\n",
       "      <th>1.050203</th>\n",
       "      <td>0.996999</td>\n",
       "    </tr>\n",
       "    <tr>\n",
       "      <th>1.057023</th>\n",
       "      <td>0.996883</td>\n",
       "    </tr>\n",
       "    <tr>\n",
       "      <th>1.061364</th>\n",
       "      <td>0.996767</td>\n",
       "    </tr>\n",
       "    <tr>\n",
       "      <th>1.063179</th>\n",
       "      <td>0.996650</td>\n",
       "    </tr>\n",
       "    <tr>\n",
       "      <th>...</th>\n",
       "      <td>...</td>\n",
       "    </tr>\n",
       "    <tr>\n",
       "      <th>20.462045</th>\n",
       "      <td>0.117179</td>\n",
       "    </tr>\n",
       "    <tr>\n",
       "      <th>20.470337</th>\n",
       "      <td>0.116600</td>\n",
       "    </tr>\n",
       "    <tr>\n",
       "      <th>20.473098</th>\n",
       "      <td>0.116020</td>\n",
       "    </tr>\n",
       "    <tr>\n",
       "      <th>20.474051</th>\n",
       "      <td>0.115440</td>\n",
       "    </tr>\n",
       "    <tr>\n",
       "      <th>20.507986</th>\n",
       "      <td>0.114861</td>\n",
       "    </tr>\n",
       "    <tr>\n",
       "      <th>20.517237</th>\n",
       "      <td>0.114281</td>\n",
       "    </tr>\n",
       "    <tr>\n",
       "      <th>20.563637</th>\n",
       "      <td>0.113701</td>\n",
       "    </tr>\n",
       "    <tr>\n",
       "      <th>20.612701</th>\n",
       "      <td>0.113121</td>\n",
       "    </tr>\n",
       "    <tr>\n",
       "      <th>20.664628</th>\n",
       "      <td>0.112542</td>\n",
       "    </tr>\n",
       "    <tr>\n",
       "      <th>20.685280</th>\n",
       "      <td>0.111962</td>\n",
       "    </tr>\n",
       "    <tr>\n",
       "      <th>20.697760</th>\n",
       "      <td>0.111382</td>\n",
       "    </tr>\n",
       "    <tr>\n",
       "      <th>20.742789</th>\n",
       "      <td>0.110802</td>\n",
       "    </tr>\n",
       "    <tr>\n",
       "      <th>20.775517</th>\n",
       "      <td>0.110222</td>\n",
       "    </tr>\n",
       "    <tr>\n",
       "      <th>20.823628</th>\n",
       "      <td>0.109643</td>\n",
       "    </tr>\n",
       "    <tr>\n",
       "      <th>20.837932</th>\n",
       "      <td>0.109063</td>\n",
       "    </tr>\n",
       "    <tr>\n",
       "      <th>20.875922</th>\n",
       "      <td>0.108483</td>\n",
       "    </tr>\n",
       "    <tr>\n",
       "      <th>20.947131</th>\n",
       "      <td>0.107903</td>\n",
       "    </tr>\n",
       "    <tr>\n",
       "      <th>20.955270</th>\n",
       "      <td>0.107323</td>\n",
       "    </tr>\n",
       "    <tr>\n",
       "      <th>20.997553</th>\n",
       "      <td>0.106743</td>\n",
       "    </tr>\n",
       "    <tr>\n",
       "      <th>21.029268</th>\n",
       "      <td>0.106163</td>\n",
       "    </tr>\n",
       "    <tr>\n",
       "      <th>21.054202</th>\n",
       "      <td>0.105584</td>\n",
       "    </tr>\n",
       "    <tr>\n",
       "      <th>21.174435</th>\n",
       "      <td>0.105004</td>\n",
       "    </tr>\n",
       "    <tr>\n",
       "      <th>21.245096</th>\n",
       "      <td>0.104424</td>\n",
       "    </tr>\n",
       "    <tr>\n",
       "      <th>21.326897</th>\n",
       "      <td>0.103844</td>\n",
       "    </tr>\n",
       "    <tr>\n",
       "      <th>21.403999</th>\n",
       "      <td>0.103264</td>\n",
       "    </tr>\n",
       "    <tr>\n",
       "      <th>21.451275</th>\n",
       "      <td>0.102684</td>\n",
       "    </tr>\n",
       "    <tr>\n",
       "      <th>21.522724</th>\n",
       "      <td>0.102104</td>\n",
       "    </tr>\n",
       "    <tr>\n",
       "      <th>21.541339</th>\n",
       "      <td>0.101524</td>\n",
       "    </tr>\n",
       "    <tr>\n",
       "      <th>22.704566</th>\n",
       "      <td>0.100944</td>\n",
       "    </tr>\n",
       "    <tr>\n",
       "      <th>23.000000</th>\n",
       "      <td>0.100944</td>\n",
       "    </tr>\n",
       "  </tbody>\n",
       "</table>\n",
       "<p>2829 rows × 1 columns</p>\n",
       "</div>"
      ],
      "text/plain": [
       "                  0\n",
       "event_at           \n",
       "0.000000   1.000000\n",
       "1.001123   0.999885\n",
       "1.002077   0.999771\n",
       "1.004098   0.999656\n",
       "1.009505   0.999541\n",
       "1.010474   0.999426\n",
       "1.012175   0.999311\n",
       "1.012853   0.999196\n",
       "1.013900   0.999081\n",
       "1.016216   0.998966\n",
       "1.016382   0.998851\n",
       "1.020595   0.998736\n",
       "1.024729   0.998620\n",
       "1.024735   0.998505\n",
       "1.026838   0.998390\n",
       "1.036091   0.998274\n",
       "1.036964   0.998158\n",
       "1.038674   0.998043\n",
       "1.039048   0.997927\n",
       "1.039070   0.997811\n",
       "1.039292   0.997696\n",
       "1.042097   0.997580\n",
       "1.043427   0.997464\n",
       "1.044309   0.997348\n",
       "1.046089   0.997232\n",
       "1.047903   0.997115\n",
       "1.050203   0.996999\n",
       "1.057023   0.996883\n",
       "1.061364   0.996767\n",
       "1.063179   0.996650\n",
       "...             ...\n",
       "20.462045  0.117179\n",
       "20.470337  0.116600\n",
       "20.473098  0.116020\n",
       "20.474051  0.115440\n",
       "20.507986  0.114861\n",
       "20.517237  0.114281\n",
       "20.563637  0.113701\n",
       "20.612701  0.113121\n",
       "20.664628  0.112542\n",
       "20.685280  0.111962\n",
       "20.697760  0.111382\n",
       "20.742789  0.110802\n",
       "20.775517  0.110222\n",
       "20.823628  0.109643\n",
       "20.837932  0.109063\n",
       "20.875922  0.108483\n",
       "20.947131  0.107903\n",
       "20.955270  0.107323\n",
       "20.997553  0.106743\n",
       "21.029268  0.106163\n",
       "21.054202  0.105584\n",
       "21.174435  0.105004\n",
       "21.245096  0.104424\n",
       "21.326897  0.103844\n",
       "21.403999  0.103264\n",
       "21.451275  0.102684\n",
       "21.522724  0.102104\n",
       "21.541339  0.101524\n",
       "22.704566  0.100944\n",
       "23.000000  0.100944\n",
       "\n",
       "[2829 rows x 1 columns]"
      ]
     },
     "execution_count": 131,
     "metadata": {},
     "output_type": "execute_result"
    }
   ],
   "source": [
    "# Solution to prediction\n",
    "regressors = np.array([[45,0]])\n",
    "survival = cf.predict_survival_function(regressors)\n",
    "survival"
   ]
  },
  {
   "cell_type": "code",
   "execution_count": 132,
   "metadata": {
    "collapsed": false
   },
   "outputs": [
    {
     "data": {
      "text/plain": [
       "<matplotlib.legend.Legend at 0xbe70dcbf98>"
      ]
     },
     "execution_count": 132,
     "metadata": {},
     "output_type": "execute_result"
    },
    {
     "data": {
      "image/png": "[encoded data removed]",
      "text/plain": [
       "<matplotlib.figure.Figure at 0xbe73cda240>"
      ]
     },
     "metadata": {},
     "output_type": "display_data"
    }
   ],
   "source": [
    "#Solution to plotting multiple regressors\n",
    "fig, axis = plt.subplots(nrows=1, ncols=1, sharex=True)\n",
    "regressor1 = np.array([[18,1]])\n",
    "regressor2 = np.array([[56,0]])\n",
    "survival_1 = cf.predict_survival_function(regressor1)\n",
    "survival_2 = cf.predict_survival_function(regressor2)\n",
    "plt.plot(survival_1,label = \"32 year old male\")\n",
    "plt.plot(survival_2,label = \"46 year old female\")\n",
    "plt.legend(loc = \"lower left\")"
   ]
  },
  {
   "cell_type": "code",
   "execution_count": 133,
   "metadata": {
    "collapsed": false
   },
   "outputs": [
    {
     "data": {
      "text/plain": [
       "[<matplotlib.lines.Line2D at 0xbe70f0c898>]"
      ]
     },
     "execution_count": 133,
     "metadata": {},
     "output_type": "execute_result"
    },
    {
     "data": {
      "image/png": "[encoded data removed]",
      "text/plain": [
       "<matplotlib.figure.Figure at 0xbe729004e0>"
      ]
     },
     "metadata": {},
     "output_type": "display_data"
    }
   ],
   "source": [
    "#Difference in survival \n",
    "odds = survival_1 / survival_2\n",
    "plt.plot(odds, c = \"red\")"
   ]
  },
  {
   "cell_type": "markdown",
   "metadata": {},
   "source": [
    "Model selection\n",
    "\n",
    "Difficult to do with classic tools (here)\n",
    "\n",
    "Problem:\n",
    "\n",
    "    1 - Calculate the BMA coefficient values\n",
    "\n",
    "    2 - Compare these results to past the lifelines results\n",
    "    \n",
    "    3 - Try running with different priors"
   ]
  },
  {
   "cell_type": "code",
   "execution_count": null,
   "metadata": {
    "collapsed": false
   },
   "outputs": [],
   "source": [
    "##Solution to 1\n",
    "bmaCox = CoxPHFitter()\n",
    "bmaCox.fit(df, \"time_to_convert\", event_col= \"event\", priors= [0.5]*7)"
   ]
  },
  {
   "cell_type": "code",
   "execution_count": null,
   "metadata": {
    "collapsed": false
   },
   "outputs": [],
   "source": [
    "print(coefficient)"
   ]
  },
  {
   "cell_type": "code",
   "execution_count": null,
   "metadata": {
    "collapsed": false
   },
   "outputs": [],
   "source": [
    "difference = coefficient - cf.summary[\"coef\"]\n",
    "print(difference)\n",
    "print(\"Most very close, some significantly out (because no leaps and jumps)\")"
   ]
  }
 ],
 "metadata": {
  "kernelspec": {
   "display_name": "Python 3",
   "language": "python",
   "name": "python3"
  },
  "language_info": {
   "codemirror_mode": {
    "name": "ipython",
    "version": 3
   },
   "file_extension": ".py",
   "mimetype": "text/x-python",
   "name": "python",
   "nbconvert_exporter": "python",
   "pygments_lexer": "ipython3",
   "version": "3.5.1"
  }
 },
 "nbformat": 4,
 "nbformat_minor": 0
}
