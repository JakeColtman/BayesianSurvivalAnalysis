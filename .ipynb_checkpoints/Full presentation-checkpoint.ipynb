{
 "cells": [
  {
   "cell_type": "code",
   "execution_count": null,
   "metadata": {
    "collapsed": true
   },
   "outputs": [],
   "source": [
    "import lifelines\n",
    "import pymc as pm\n",
    "from pyBMA.CoxPH import CoxPH\n",
    "import matplotlib.pyplot as plt\n",
    "import numpy as np\n",
    "from math import log\n",
    "%matplotlib inline  "
   ]
  },
  {
   "cell_type": "code",
   "execution_count": null,
   "metadata": {
    "collapsed": true
   },
   "outputs": [],
   "source": [
    "#Extracting and formatting data"
   ]
  },
  {
   "cell_type": "code",
   "execution_count": 150,
   "metadata": {
    "collapsed": false
   },
   "outputs": [],
   "source": [
    "#####Put extracting and formatting here"
   ]
  },
  {
   "cell_type": "code",
   "execution_count": null,
   "metadata": {
    "collapsed": true
   },
   "outputs": [],
   "source": [
    "###Parametric Bayes\n",
    "#Shout out to Cam Davidson-Pilon"
   ]
  },
  {
   "cell_type": "code",
   "execution_count": null,
   "metadata": {
    "collapsed": false
   },
   "outputs": [],
   "source": [
    "## Example fully worked model using toy data\n",
    "## Adapted from http://blog.yhat.com/posts/estimating-user-lifetimes-with-pymc.html\n",
    "## Note that there are corrections in the node to fix bugs in article\n",
    "\n",
    "import pymc as mc\n",
    "import numpy.ma as ma\n",
    "\n",
    "N = 30\n",
    "#create some artificial data, like the data in the figure above. \n",
    "lifetime = mc.rweibull( 2, 5, size = N ) \n",
    "birth = mc.runiform(0, 10, N)\n",
    "\n",
    "censor = (birth + lifetime) > 10 #an individual is right-censored if this is True \n",
    "lifetime_ = ma.masked_array( lifetime, censor ) #create the censorship event. \n",
    "lifetime_.set_fill_value( 10 ) #good for computations later.\n",
    "\n",
    "#this begins the model \n",
    "alpha = mc.Uniform(\"alpha\", 0,20) \n",
    "#lets just use uninformative priors \n",
    "beta = mc.Uniform(\"beta\", 0,20) \n",
    "obs = mc.Weibull( 'obs', alpha, beta, value = lifetime_, observed = True )\n",
    "\n",
    "@mc.potential\n",
    "def censorfactor(obs=obs): \n",
    "    if np.any((obs + birth < 10)[lifetime_.mask] ): \n",
    "        return -100000\n",
    "    else:\n",
    "        return 0\n",
    "\n",
    "mcmc = mc.MCMC([alpha, beta, obs, censorfactor ] )\n",
    "mcmc.sample(50000, burn = 10, thin = 1)"
   ]
  },
  {
   "cell_type": "code",
   "execution_count": null,
   "metadata": {
    "collapsed": false
   },
   "outputs": [],
   "source": [
    "pm.Matplot.plot(mcmc)"
   ]
  },
  {
   "cell_type": "markdown",
   "metadata": {},
   "source": [
    "Problems: \n",
    "\n",
    "    1 - Work out the mean observed time to convert\n",
    "    2 - Try to fit your data from section 1 \n",
    "    3 - Use the results to plot the distribution of the median\n",
    "    4 - Try adjusting the number of samples, the burn parameter and the amount of thinning to correct get good answers\n",
    "    5 - Try adjusting the prior and see how it affects the estimate\n",
    "    6 - Try to fit a different distribution to the data\n",
    "    7 - Compare answers\n",
    "    Bonus - test the hypothesis that the true median is greater than a certain amount\n",
    "    \n",
    "For question 2, note that the median of a Weibull is:\n",
    "\n",
    "$$β(log 2)^{1/α}$$\n",
    "    "
   ]
  },
  {
   "cell_type": "code",
   "execution_count": 156,
   "metadata": {
    "collapsed": false
   },
   "outputs": [
    {
     "data": {
      "text/plain": [
       "(array([   8.,   48.,  150.,  347.,  353.,  291.,  184.,   79.,   26.,   14.]),\n",
       " array([ 2.42566828,  2.68655136,  2.94743445,  3.20831753,  3.46920061,\n",
       "         3.7300837 ,  3.99096678,  4.25184987,  4.51273295,  4.77361604,\n",
       "         5.03449912]),\n",
       " <a list of 10 Patch objects>)"
      ]
     },
     "execution_count": 156,
     "metadata": {},
     "output_type": "execute_result"
    },
    {
     "data": {
      "image/png": "[encoded data removed]",
      "text/plain": [
       "<matplotlib.figure.Figure at 0x5bdb72c8d0>"
      ]
     },
     "metadata": {},
     "output_type": "display_data"
    }
   ],
   "source": [
    "#Solution to question 4:\n",
    "def weibull_median(alpha, beta):\n",
    "    return beta * ((log(2)) ** ( 1 / alpha))\n",
    "plt.hist([weibull_median(x[0], x[1]) for x in zip(mcmc.trace(\"alpha\"), mcmc.trace(\"beta\"))])"
   ]
  },
  {
   "cell_type": "code",
   "execution_count": null,
   "metadata": {
    "collapsed": false
   },
   "outputs": [],
   "source": [
    "#Solution to question 4:\n",
    "### Increasing the burn parameter allows us to discard results before convergence\n",
    "### Thinning the results removes autocorrelation\n",
    "\n",
    "mcmc = mc.MCMC([alpha, beta, obs, censorfactor ] )\n",
    "mcmc.sample(50000, burn = 30000, thin = 20)\n",
    "\n",
    "pm.Matplot.plot(mcmc)"
   ]
  },
  {
   "cell_type": "code",
   "execution_count": 159,
   "metadata": {
    "collapsed": false
   },
   "outputs": [
    {
     "name": "stdout",
     "output_type": "stream",
     "text": [
      " [-----------------100%-----------------] 50000 of 50000 complete in 6.4 sec"
     ]
    },
    {
     "data": {
      "text/plain": [
       "(array([  17.,  113.,  323.,  507.,  345.,  125.,   47.,   14.,    7.,    2.]),\n",
       " array([ 2.65870303,  3.02491705,  3.39113108,  3.7573451 ,  4.12355913,\n",
       "         4.48977315,  4.85598718,  5.2222012 ,  5.58841523,  5.95462925,\n",
       "         6.32084328]),\n",
       " <a list of 10 Patch objects>)"
      ]
     },
     "execution_count": 159,
     "metadata": {},
     "output_type": "execute_result"
    },
    {
     "data": {
      "image/png": "[encoded data removed]",
      "text/plain": [
       "<matplotlib.figure.Figure at 0x5bdcb22b00>"
      ]
     },
     "metadata": {},
     "output_type": "display_data"
    }
   ],
   "source": [
    "#Solution to Q5\n",
    "## Adjusting the priors impacts the overall result\n",
    "## If we give a looser, less informative prior then we end up with a broader, shorter distribution\n",
    "## If we give much more informative priors, then we get a tighter, taller distribution\n",
    "\n",
    "import pymc as mc\n",
    "import numpy.ma as ma\n",
    "\n",
    "N = 30\n",
    "#create some artificial data. \n",
    "lifetime = mc.rweibull( 2, 5, size = N ) \n",
    "birth = mc.runiform(0, 10, N)\n",
    "\n",
    "censor = (birth + lifetime) > 10 \n",
    "lifetime_ = ma.masked_array( lifetime, censor )\n",
    "lifetime_.set_fill_value( 10 ) \n",
    "\n",
    "## Note the narrowing of the prior around the true values\n",
    "#alpha = mc.Uniform(\"alpha\", 1, 3) \n",
    "#beta = mc.Uniform(\"beta\", 3, 6) \n",
    "\n",
    "####Uncomment this to see the result of looser priors\n",
    "alpha = mc.Uniform(\"alpha\", 0, 30) \n",
    "beta = mc.Uniform(\"beta\", 0, 30) \n",
    "\n",
    "obs = mc.Weibull( 'obs', alpha, beta, value = lifetime_, observed = True )\n",
    "\n",
    "@mc.potential\n",
    "def censorfactor(obs=obs): \n",
    "    if np.any((obs + birth < 10)[lifetime_.mask] ): \n",
    "        return -100000\n",
    "    else:\n",
    "        return 0\n",
    "\n",
    "mcmc = mc.MCMC([alpha, beta, obs, censorfactor ] )\n",
    "mcmc.sample(50000, burn = 20000, thin = 20)\n",
    "#pm.Matplot.plot(mcmc)\n",
    "plt.hist([weibull_median(x[0], x[1]) for x in zip(mcmc.trace(\"alpha\"), mcmc.trace(\"beta\"))])"
   ]
  },
  {
   "cell_type": "code",
   "execution_count": 162,
   "metadata": {
    "collapsed": false
   },
   "outputs": [
    {
     "name": "stdout",
     "output_type": "stream",
     "text": [
      " [-----------------100%-----------------] 50000 of 50000 complete in 6.2 sec"
     ]
    },
    {
     "data": {
      "text/plain": [
       "(array([   5.,   18.,   87.,  189.,  250.,  230.,  147.,   55.,   14.,    5.]),\n",
       " array([ 3.8744979 ,  3.94423497,  4.01397204,  4.0837091 ,  4.15344617,\n",
       "         4.22318324,  4.2929203 ,  4.36265737,  4.43239444,  4.5021315 ,\n",
       "         4.57186857]),\n",
       " <a list of 10 Patch objects>)"
      ]
     },
     "execution_count": 162,
     "metadata": {},
     "output_type": "execute_result"
    },
    {
     "data": {
      "image/png": "[encoded data removed]",
      "text/plain": [
       "<matplotlib.figure.Figure at 0x5bdcb45f98>"
      ]
     },
     "metadata": {},
     "output_type": "display_data"
    }
   ],
   "source": [
    "#Solution to Q6\n",
    "## To fit a new distribution to the data, we need to change the obs variable to a new distribution.\n",
    "## This requires creating new hyper parameters,\n",
    "## The normal distribution has two parameters, the mean and the stdev (we use 1/stdev in pymc)\n",
    "\n",
    "import pymc as mc\n",
    "import numpy.ma as ma\n",
    "\n",
    "N = 30\n",
    "#create some artificial data. \n",
    "lifetime = mc.rweibull( 2, 5, size = N ) \n",
    "birth = mc.runiform(0, 10, N)\n",
    "\n",
    "censor = (birth + lifetime) > 10 \n",
    "lifetime_ = ma.masked_array( lifetime, censor )\n",
    "lifetime_.set_fill_value( 10 ) \n",
    "\n",
    "#this begins the model \n",
    "alpha = mc.Uniform(\"mean\", 0,15) \n",
    "tau = mc.Uniform(\"tau\", 0, 10)\n",
    "obs = mc.Normal( 'obs', alpha, tau, value = lifetime_, observed = True )\n",
    "\n",
    "@mc.potential\n",
    "def censorfactor(obs=obs): \n",
    "    if np.any((obs + birth < 10)[lifetime_.mask] ): \n",
    "        return -100000\n",
    "    else:\n",
    "        return 0\n",
    "\n",
    "mcmc = mc.MCMC([alpha, beta, obs, censorfactor ] )\n",
    "mcmc.sample(50000, burn = 30000, thin = 20)\n",
    "#pm.Matplot.plot(mcmc)\n",
    "plt.hist(mcmc.trace(\"mean\")[:])"
   ]
  },
  {
   "cell_type": "code",
   "execution_count": 167,
   "metadata": {
    "collapsed": false
   },
   "outputs": [
    {
     "data": {
      "text/plain": [
       "98.200000000000003"
      ]
     },
     "execution_count": 167,
     "metadata": {},
     "output_type": "execute_result"
    }
   ],
   "source": [
    "## Solution to bonus\n",
    "## Super easy to do in the Bayesian framework, all we need to do is look at what % of samples\n",
    "## meet our criteria\n",
    "\n",
    "testing_value = 4\n",
    "number_of_greater_samples = sum([x >= testing_value for x in mcmc.trace(\"mean\")[:]])\n",
    "100 * (number_of_greater_samples / len(mcmc.trace(\"mean\")[:]))"
   ]
  },
  {
   "cell_type": "code",
   "execution_count": null,
   "metadata": {
    "collapsed": true
   },
   "outputs": [],
   "source": [
    "#Cox model"
   ]
  },
  {
   "cell_type": "markdown",
   "metadata": {},
   "source": [
    "If we want to look at covariates, we need a new approach.  We'll use Cox proprtional hazards.  More information here."
   ]
  },
  {
   "cell_type": "code",
   "execution_count": null,
   "metadata": {
    "collapsed": false
   },
   "outputs": [],
   "source": [
    "#Fitting solution\n",
    "cf = lifelines.CoxPHFitter()\n",
    "cf.fit(data, 'week', event_col = 'arrest')"
   ]
  },
  {
   "cell_type": "markdown",
   "metadata": {},
   "source": [
    "Once we've fit the data, we need to do something useful with it.  Try to do the following things:\n",
    "\n",
    "    1 - Plot the cumulative baseline hazard and survival function\n",
    "\n",
    "            What relation do these have?\n",
    "\n",
    "    2 - Predict the functions for a particular set of regressors\n",
    "\n",
    "    3 - Plot the survival function for two different set of regressors\n",
    "\n",
    "    4 - For your results in part 3 caculate how much more likely a death event is for one than the other for a given period of time"
   ]
  },
  {
   "cell_type": "code",
   "execution_count": null,
   "metadata": {
    "collapsed": false
   },
   "outputs": [],
   "source": [
    "#Solution to 1\n",
    "fig, axes = plt.subplots(nrows=1, ncols=2, sharex=True, sharey = True)\n",
    "cf.baseline_cumulative_hazard_.plot(ax = axes[0], title = \"Baseline Cumulative Hazard\")\n",
    "cf.baseline_survival_.plot(ax = axes[1], title = \"Baseline Survival\")\n",
    "print(\"Survival is the 1 - Cumulative hazard\")"
   ]
  },
  {
   "cell_type": "code",
   "execution_count": null,
   "metadata": {
    "collapsed": false
   },
   "outputs": [],
   "source": [
    "# Solution to prediction\n",
    "regressors = np.array([[0,0,0,0,0,0,0]])\n",
    "survival = cf.predict_survival_function(regressors)"
   ]
  },
  {
   "cell_type": "code",
   "execution_count": null,
   "metadata": {
    "collapsed": false
   },
   "outputs": [],
   "source": [
    "#Solution to plotting multiple regressors\n",
    "fig, axis = plt.subplots(nrows=1, ncols=1, sharex=True)\n",
    "regressor1 = np.array([[0,0,0,0,0,0,0]])\n",
    "regressor2 = np.array([[1,1,1,1,1,1,1]])\n",
    "survival_1 = cf.predict_survival_function(regressor1)\n",
    "survival_2 = cf.predict_survival_function(regressor2)\n",
    "plt.plot(survival_1,label = \"All zeros\")\n",
    "plt.plot(survival_2,label = \"All ones\")\n",
    "plt.legend()"
   ]
  },
  {
   "cell_type": "code",
   "execution_count": null,
   "metadata": {
    "collapsed": false
   },
   "outputs": [],
   "source": [
    "#Difference in survival \n",
    "odds = survival_1 / survival_2\n",
    "plt.plot(odds, c = \"red\")"
   ]
  },
  {
   "cell_type": "markdown",
   "metadata": {},
   "source": [
    "Model selection\n",
    "\n",
    "Difficult to do with classic tools (here)\n",
    "\n",
    "Problem:\n",
    "\n",
    "    1 - Calculate the BMA coefficient values\n",
    "\n",
    "    2 - Compare these results to past the lifelines results"
   ]
  },
  {
   "cell_type": "code",
   "execution_count": null,
   "metadata": {
    "collapsed": false
   },
   "outputs": [],
   "source": [
    "bmaCox = CoxPH(data, \"week\", \"arrest\")\n",
    "coefficient, se = bmaCox.run()"
   ]
  },
  {
   "cell_type": "code",
   "execution_count": null,
   "metadata": {
    "collapsed": false
   },
   "outputs": [],
   "source": [
    "print(coefficient)"
   ]
  },
  {
   "cell_type": "code",
   "execution_count": null,
   "metadata": {
    "collapsed": false
   },
   "outputs": [],
   "source": [
    "difference = coefficient - cf.summary[\"coef\"]\n",
    "print(difference)\n",
    "print(\"Most very close, some significantly out (because no leaps and jumps)\")"
   ]
  }
 ],
 "metadata": {
  "kernelspec": {
   "display_name": "Python 3",
   "language": "python",
   "name": "python3"
  },
  "language_info": {
   "codemirror_mode": {
    "name": "ipython",
    "version": 3
   },
   "file_extension": ".py",
   "mimetype": "text/x-python",
   "name": "python",
   "nbconvert_exporter": "python",
   "pygments_lexer": "ipython3",
   "version": "3.5.1"
  }
 },
 "nbformat": 4,
 "nbformat_minor": 0
}
