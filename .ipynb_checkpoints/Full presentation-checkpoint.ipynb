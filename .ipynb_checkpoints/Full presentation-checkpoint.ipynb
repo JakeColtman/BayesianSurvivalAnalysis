{
 "cells": [
  {
   "cell_type": "code",
   "execution_count": 170,
   "metadata": {
    "collapsed": true
   },
   "outputs": [],
   "source": [
    "import lifelines\n",
    "import pymc as pm\n",
    "from pyBMA.CoxPH import CoxPH\n",
    "import matplotlib.pyplot as plt\n",
    "import numpy as np\n",
    "from math import log\n",
    "import pandas as pd\n",
    "%matplotlib inline  "
   ]
  },
  {
   "cell_type": "markdown",
   "metadata": {},
   "source": [
    "The first step in any data analysis is acquiring and munging the data\n",
    "An example data set can be found HERE\n",
    "\n",
    "Download the file output.txt and transform it into a format like below where the censored column should be 1 if there's only one entry for an id, and 0 if there are two entries:\n",
    "\n",
    "id,time_to_convert,censored\n"
   ]
  },
  {
   "cell_type": "code",
   "execution_count": 210,
   "metadata": {
    "collapsed": false
   },
   "outputs": [
    {
     "data": {
      "text/html": [
       "<div>\n",
       "<table border=\"1\" class=\"dataframe\">\n",
       "  <thead>\n",
       "    <tr style=\"text-align: right;\">\n",
       "      <th></th>\n",
       "      <th>time_to_convert</th>\n",
       "      <th>censored</th>\n",
       "    </tr>\n",
       "    <tr>\n",
       "      <th>id</th>\n",
       "      <th></th>\n",
       "      <th></th>\n",
       "    </tr>\n",
       "  </thead>\n",
       "  <tbody>\n",
       "    <tr>\n",
       "      <th>1</th>\n",
       "      <td>11.689711</td>\n",
       "      <td>0</td>\n",
       "    </tr>\n",
       "    <tr>\n",
       "      <th>2</th>\n",
       "      <td>0.956768</td>\n",
       "      <td>0</td>\n",
       "    </tr>\n",
       "    <tr>\n",
       "      <th>3</th>\n",
       "      <td>1.026633</td>\n",
       "      <td>0</td>\n",
       "    </tr>\n",
       "    <tr>\n",
       "      <th>4</th>\n",
       "      <td>12.969889</td>\n",
       "      <td>0</td>\n",
       "    </tr>\n",
       "    <tr>\n",
       "      <th>5</th>\n",
       "      <td>4.232592</td>\n",
       "      <td>0</td>\n",
       "    </tr>\n",
       "    <tr>\n",
       "      <th>6</th>\n",
       "      <td>14.000000</td>\n",
       "      <td>1</td>\n",
       "    </tr>\n",
       "    <tr>\n",
       "      <th>7</th>\n",
       "      <td>14.000000</td>\n",
       "      <td>1</td>\n",
       "    </tr>\n",
       "    <tr>\n",
       "      <th>8</th>\n",
       "      <td>1.088168</td>\n",
       "      <td>0</td>\n",
       "    </tr>\n",
       "    <tr>\n",
       "      <th>9</th>\n",
       "      <td>2.740862</td>\n",
       "      <td>0</td>\n",
       "    </tr>\n",
       "    <tr>\n",
       "      <th>10</th>\n",
       "      <td>6.221446</td>\n",
       "      <td>0</td>\n",
       "    </tr>\n",
       "    <tr>\n",
       "      <th>11</th>\n",
       "      <td>9.276499</td>\n",
       "      <td>0</td>\n",
       "    </tr>\n",
       "    <tr>\n",
       "      <th>12</th>\n",
       "      <td>5.054358</td>\n",
       "      <td>0</td>\n",
       "    </tr>\n",
       "    <tr>\n",
       "      <th>13</th>\n",
       "      <td>8.483229</td>\n",
       "      <td>0</td>\n",
       "    </tr>\n",
       "    <tr>\n",
       "      <th>14</th>\n",
       "      <td>2.421755</td>\n",
       "      <td>0</td>\n",
       "    </tr>\n",
       "    <tr>\n",
       "      <th>15</th>\n",
       "      <td>3.480423</td>\n",
       "      <td>0</td>\n",
       "    </tr>\n",
       "    <tr>\n",
       "      <th>16</th>\n",
       "      <td>1.177536</td>\n",
       "      <td>0</td>\n",
       "    </tr>\n",
       "    <tr>\n",
       "      <th>17</th>\n",
       "      <td>7.942472</td>\n",
       "      <td>0</td>\n",
       "    </tr>\n",
       "    <tr>\n",
       "      <th>18</th>\n",
       "      <td>5.272507</td>\n",
       "      <td>0</td>\n",
       "    </tr>\n",
       "    <tr>\n",
       "      <th>19</th>\n",
       "      <td>1.997365</td>\n",
       "      <td>0</td>\n",
       "    </tr>\n",
       "    <tr>\n",
       "      <th>20</th>\n",
       "      <td>1.177950</td>\n",
       "      <td>0</td>\n",
       "    </tr>\n",
       "    <tr>\n",
       "      <th>21</th>\n",
       "      <td>0.888771</td>\n",
       "      <td>0</td>\n",
       "    </tr>\n",
       "    <tr>\n",
       "      <th>22</th>\n",
       "      <td>3.651235</td>\n",
       "      <td>0</td>\n",
       "    </tr>\n",
       "    <tr>\n",
       "      <th>23</th>\n",
       "      <td>9.430898</td>\n",
       "      <td>0</td>\n",
       "    </tr>\n",
       "    <tr>\n",
       "      <th>24</th>\n",
       "      <td>1.144129</td>\n",
       "      <td>0</td>\n",
       "    </tr>\n",
       "    <tr>\n",
       "      <th>25</th>\n",
       "      <td>7.687025</td>\n",
       "      <td>0</td>\n",
       "    </tr>\n",
       "    <tr>\n",
       "      <th>26</th>\n",
       "      <td>14.000000</td>\n",
       "      <td>1</td>\n",
       "    </tr>\n",
       "    <tr>\n",
       "      <th>27</th>\n",
       "      <td>14.000000</td>\n",
       "      <td>1</td>\n",
       "    </tr>\n",
       "    <tr>\n",
       "      <th>28</th>\n",
       "      <td>4.715349</td>\n",
       "      <td>0</td>\n",
       "    </tr>\n",
       "    <tr>\n",
       "      <th>29</th>\n",
       "      <td>0.957656</td>\n",
       "      <td>0</td>\n",
       "    </tr>\n",
       "    <tr>\n",
       "      <th>30</th>\n",
       "      <td>0.775062</td>\n",
       "      <td>0</td>\n",
       "    </tr>\n",
       "  </tbody>\n",
       "</table>\n",
       "</div>"
      ],
      "text/plain": [
       "    time_to_convert  censored\n",
       "id                           \n",
       "1         11.689711         0\n",
       "2          0.956768         0\n",
       "3          1.026633         0\n",
       "4         12.969889         0\n",
       "5          4.232592         0\n",
       "6         14.000000         1\n",
       "7         14.000000         1\n",
       "8          1.088168         0\n",
       "9          2.740862         0\n",
       "10         6.221446         0\n",
       "11         9.276499         0\n",
       "12         5.054358         0\n",
       "13         8.483229         0\n",
       "14         2.421755         0\n",
       "15         3.480423         0\n",
       "16         1.177536         0\n",
       "17         7.942472         0\n",
       "18         5.272507         0\n",
       "19         1.997365         0\n",
       "20         1.177950         0\n",
       "21         0.888771         0\n",
       "22         3.651235         0\n",
       "23         9.430898         0\n",
       "24         1.144129         0\n",
       "25         7.687025         0\n",
       "26        14.000000         1\n",
       "27        14.000000         1\n",
       "28         4.715349         0\n",
       "29         0.957656         0\n",
       "30         0.775062         0"
      ]
     },
     "execution_count": 210,
     "metadata": {},
     "output_type": "execute_result"
    }
   ],
   "source": [
    "#Solution to part one:\n",
    "def convert_to_minutes(dt):\n",
    "    day_diff = dt / np.timedelta64(1, 'D')\n",
    "    if day_diff == 0:\n",
    "        return 14\n",
    "    else: \n",
    "        return day_diff\n",
    "df = pd.read_csv(\"E:/output.txt\")\n",
    "df[\"time_to_convert\"] = pd.to_datetime(df['datetime'])\n",
    "df = df.drop('datetime', 1)\n",
    "time_deltas = df.groupby(by = \"id\").max() - df.groupby(by = \"id\").min()\n",
    "df = time_deltas[\"time_to_convert\"].apply(convert_to_minutes).to_frame()\n",
    "df[\"censored\"] = df[\"time_to_convert\"] == 14.0\n",
    "df[\"censored\"] = df[\"censored\"].apply(lambda x: 1 if x else 0)\n",
    "df"
   ]
  },
  {
   "cell_type": "code",
   "execution_count": null,
   "metadata": {
    "collapsed": true
   },
   "outputs": [],
   "source": [
    "###Parametric Bayes\n",
    "#Shout out to Cam Davidson-Pilon"
   ]
  },
  {
   "cell_type": "code",
   "execution_count": 214,
   "metadata": {
    "collapsed": false
   },
   "outputs": [
    {
     "name": "stdout",
     "output_type": "stream",
     "text": [
      " [-----------------100%-----------------] 50000 of 50000 complete in 5.4 sec"
     ]
    }
   ],
   "source": [
    "## Example fully worked model using toy data\n",
    "## Adapted from http://blog.yhat.com/posts/estimating-user-lifetimes-with-pymc.html\n",
    "\n",
    "alpha = mc.Uniform(\"alpha\", 0,20) \n",
    "beta = mc.Uniform(\"beta\", 0,20) \n",
    "obs = mc.Weibull('obs', alpha, beta, value = df[\"time_to_convert\"], observed = True )\n",
    "\n",
    "@mc.potential\n",
    "def censorfactor(obs=obs): \n",
    "    if np.any(obs>14 ): \n",
    "        return -100000\n",
    "    else:\n",
    "        return 0\n",
    "\n",
    "mcmc = mc.MCMC([alpha, beta, obs, censorfactor ] )\n",
    "mcmc.sample(50000, burn = 10, thin = 1)"
   ]
  },
  {
   "cell_type": "code",
   "execution_count": 215,
   "metadata": {
    "collapsed": false
   },
   "outputs": [
    {
     "name": "stdout",
     "output_type": "stream",
     "text": [
      "Plotting beta\n",
      "Plotting alpha\n"
     ]
    },
    {
     "data": {
      "image/png": "[encoded data removed]",
      "text/plain": [
       "<matplotlib.figure.Figure at 0x5bde52fe10>"
      ]
     },
     "metadata": {},
     "output_type": "display_data"
    },
    {
     "data": {
      "image/png": "[encoded data removed]",
      "text/plain": [
       "<matplotlib.figure.Figure at 0x5bde5ad9e8>"
      ]
     },
     "metadata": {},
     "output_type": "display_data"
    }
   ],
   "source": [
    "pm.Matplot.plot(mcmc)"
   ]
  },
  {
   "cell_type": "markdown",
   "metadata": {},
   "source": [
    "Problems: \n",
    "\n",
    "    1 - Work out the mean observed time to convert\n",
    "    2 - Try to fit your data from section 1 \n",
    "    3 - Use the results to plot the distribution of the median\n",
    "    4 - Try adjusting the number of samples, the burn parameter and the amount of thinning to correct get good answers\n",
    "    5 - Try adjusting the prior and see how it affects the estimate\n",
    "    6 - Try to fit a different distribution to the data\n",
    "    7 - Compare answers\n",
    "    Bonus - test the hypothesis that the true median is greater than a certain amount\n",
    "    \n",
    "For question 2, note that the median of a Weibull is:\n",
    "\n",
    "$$β(log 2)^{1/α}$$\n",
    "    "
   ]
  },
  {
   "cell_type": "code",
   "execution_count": 213,
   "metadata": {
    "collapsed": false
   },
   "outputs": [
    {
     "data": {
      "text/plain": [
       "(array([  8.10000000e+01,   1.61600000e+03,   9.73700000e+03,\n",
       "          1.86220000e+04,   1.35680000e+04,   4.97600000e+03,\n",
       "          1.14000000e+03,   2.07000000e+02,   3.60000000e+01,\n",
       "          7.00000000e+00]),\n",
       " array([ 1.62757904,  2.43921027,  3.25084149,  4.06247271,  4.87410394,\n",
       "         5.68573516,  6.49736639,  7.30899761,  8.12062883,  8.93226006,\n",
       "         9.74389128]),\n",
       " <a list of 10 Patch objects>)"
      ]
     },
     "execution_count": 213,
     "metadata": {},
     "output_type": "execute_result"
    },
    {
     "data": {
      "image/png": "[encoded data removed]",
      "text/plain": [
       "<matplotlib.figure.Figure at 0x5bdb7dddd8>"
      ]
     },
     "metadata": {},
     "output_type": "display_data"
    }
   ],
   "source": [
    "#Solution to question 4:\n",
    "def weibull_median(alpha, beta):\n",
    "    return beta * ((log(2)) ** ( 1 / alpha))\n",
    "plt.hist([weibull_median(x[0], x[1]) for x in zip(mcmc.trace(\"alpha\"), mcmc.trace(\"beta\"))])"
   ]
  },
  {
   "cell_type": "code",
   "execution_count": null,
   "metadata": {
    "collapsed": false
   },
   "outputs": [],
   "source": [
    "#Solution to question 4:\n",
    "### Increasing the burn parameter allows us to discard results before convergence\n",
    "### Thinning the results removes autocorrelation\n",
    "\n",
    "mcmc = mc.MCMC([alpha, beta, obs, censorfactor ] )\n",
    "mcmc.sample(50000, burn = 30000, thin = 20)\n",
    "\n",
    "pm.Matplot.plot(mcmc)"
   ]
  },
  {
   "cell_type": "code",
   "execution_count": 216,
   "metadata": {
    "collapsed": false
   },
   "outputs": [
    {
     "name": "stdout",
     "output_type": "stream",
     "text": [
      " [-----------------100%-----------------] 50000 of 50000 complete in 3.2 sec"
     ]
    },
    {
     "data": {
      "text/plain": [
       "(array([   8.,   20.,   53.,   82.,  162.,  248.,  315.,  348.,  208.,   56.]),\n",
       " array([ 2.64229817,  2.8537489 ,  3.06519963,  3.27665036,  3.48810109,\n",
       "         3.69955182,  3.91100256,  4.12245329,  4.33390402,  4.54535475,\n",
       "         4.75680548]),\n",
       " <a list of 10 Patch objects>)"
      ]
     },
     "execution_count": 216,
     "metadata": {},
     "output_type": "execute_result"
    },
    {
     "data": {
      "image/png": "[encoded data removed]",
      "text/plain": [
       "<matplotlib.figure.Figure at 0x5bdb6dd400>"
      ]
     },
     "metadata": {},
     "output_type": "display_data"
    }
   ],
   "source": [
    "#Solution to Q5\n",
    "## Adjusting the priors impacts the overall result\n",
    "## If we give a looser, less informative prior then we end up with a broader, shorter distribution\n",
    "## If we give much more informative priors, then we get a tighter, taller distribution\n",
    "\n",
    "\n",
    "## Note the narrowing of the prior around the true values\n",
    "alpha = mc.Uniform(\"alpha\", 1, 3) \n",
    "beta = mc.Uniform(\"beta\", 3, 6) \n",
    "\n",
    "####Uncomment this to see the result of looser priors\n",
    "#alpha = mc.Uniform(\"alpha\", 0, 30) \n",
    "#beta = mc.Uniform(\"beta\", 0, 30) \n",
    "\n",
    "obs = mc.Weibull( 'obs', alpha, beta, value = df[\"time_to_convert\"], observed = True )\n",
    "\n",
    "mcmc = mc.MCMC([alpha, beta, obs, censorfactor ] )\n",
    "mcmc.sample(50000, burn = 20000, thin = 20)\n",
    "#pm.Matplot.plot(mcmc)\n",
    "plt.hist([weibull_median(x[0], x[1]) for x in zip(mcmc.trace(\"alpha\"), mcmc.trace(\"beta\"))])"
   ]
  },
  {
   "cell_type": "code",
   "execution_count": 219,
   "metadata": {
    "collapsed": false
   },
   "outputs": [
    {
     "name": "stdout",
     "output_type": "stream",
     "text": [
      " [-----------------100%-----------------] 50000 of 50000 complete in 3.5 sec"
     ]
    },
    {
     "data": {
      "text/plain": [
       "(array([  60.,   93.,  134.,  184.,  170.,  146.,  118.,   52.,   28.,   15.]),\n",
       " array([  1.02411690e-04,   1.44070931e+00,   2.88131620e+00,\n",
       "          4.32192310e+00,   5.76252999e+00,   7.20313688e+00,\n",
       "          8.64374378e+00,   1.00843507e+01,   1.15249576e+01,\n",
       "          1.29655645e+01,   1.44061714e+01]),\n",
       " <a list of 10 Patch objects>)"
      ]
     },
     "execution_count": 219,
     "metadata": {},
     "output_type": "execute_result"
    },
    {
     "data": {
      "image/png": "[encoded data removed]",
      "text/plain": [
       "<matplotlib.figure.Figure at 0x5bddcee0f0>"
      ]
     },
     "metadata": {},
     "output_type": "display_data"
    }
   ],
   "source": [
    "#Solution to Q6\n",
    "## To fit a new distribution to the data, we need to change the obs variable to a new distribution.\n",
    "## This requires creating new hyper parameters,\n",
    "## The normal distribution has two parameters, the mean and the stdev (we use 1/stdev in pymc)\n",
    "\n",
    "import pymc as mc\n",
    "import numpy.ma as ma\n",
    "\n",
    "#this begins the model \n",
    "alpha = mc.Uniform(\"mean\", 0,15) \n",
    "tau = mc.Uniform(\"tau\", 0, 0.01)\n",
    "obs = mc.Normal( 'obs', alpha, tau, value = df[\"time_to_convert\"], observed = True )\n",
    "\n",
    "mcmc = mc.MCMC([alpha, beta, obs, censorfactor ] )\n",
    "mcmc.sample(50000, burn = 30000, thin = 20)\n",
    "#pm.Matplot.plot(mcmc)\n",
    "plt.hist(mcmc.trace(\"mean\")[:])"
   ]
  },
  {
   "cell_type": "code",
   "execution_count": 220,
   "metadata": {
    "collapsed": false
   },
   "outputs": [
    {
     "data": {
      "text/plain": [
       "74.799999999999997"
      ]
     },
     "execution_count": 220,
     "metadata": {},
     "output_type": "execute_result"
    }
   ],
   "source": [
    "## Solution to bonus\n",
    "## Super easy to do in the Bayesian framework, all we need to do is look at what % of samples\n",
    "## meet our criteria\n",
    "\n",
    "testing_value = 4\n",
    "number_of_greater_samples = sum([x >= testing_value for x in mcmc.trace(\"mean\")[:]])\n",
    "100 * (number_of_greater_samples / len(mcmc.trace(\"mean\")[:]))"
   ]
  },
  {
   "cell_type": "code",
   "execution_count": null,
   "metadata": {
    "collapsed": true
   },
   "outputs": [],
   "source": [
    "#Cox model"
   ]
  },
  {
   "cell_type": "markdown",
   "metadata": {},
   "source": [
    "If we want to look at covariates, we need a new approach.  We'll use Cox proprtional hazards.  More information here."
   ]
  },
  {
   "cell_type": "code",
   "execution_count": null,
   "metadata": {
    "collapsed": false
   },
   "outputs": [],
   "source": [
    "#Fitting solution\n",
    "cf = lifelines.CoxPHFitter()\n",
    "cf.fit(data, 'week', event_col = 'arrest')"
   ]
  },
  {
   "cell_type": "markdown",
   "metadata": {},
   "source": [
    "Once we've fit the data, we need to do something useful with it.  Try to do the following things:\n",
    "\n",
    "    1 - Plot the cumulative baseline hazard and survival function\n",
    "\n",
    "            What relation do these have?\n",
    "\n",
    "    2 - Predict the functions for a particular set of regressors\n",
    "\n",
    "    3 - Plot the survival function for two different set of regressors\n",
    "\n",
    "    4 - For your results in part 3 caculate how much more likely a death event is for one than the other for a given period of time"
   ]
  },
  {
   "cell_type": "code",
   "execution_count": null,
   "metadata": {
    "collapsed": false
   },
   "outputs": [],
   "source": [
    "#Solution to 1\n",
    "fig, axes = plt.subplots(nrows=1, ncols=2, sharex=True, sharey = True)\n",
    "cf.baseline_cumulative_hazard_.plot(ax = axes[0], title = \"Baseline Cumulative Hazard\")\n",
    "cf.baseline_survival_.plot(ax = axes[1], title = \"Baseline Survival\")\n",
    "print(\"Survival is the 1 - Cumulative hazard\")"
   ]
  },
  {
   "cell_type": "code",
   "execution_count": null,
   "metadata": {
    "collapsed": false
   },
   "outputs": [],
   "source": [
    "# Solution to prediction\n",
    "regressors = np.array([[0,0,0,0,0,0,0]])\n",
    "survival = cf.predict_survival_function(regressors)"
   ]
  },
  {
   "cell_type": "code",
   "execution_count": null,
   "metadata": {
    "collapsed": false
   },
   "outputs": [],
   "source": [
    "#Solution to plotting multiple regressors\n",
    "fig, axis = plt.subplots(nrows=1, ncols=1, sharex=True)\n",
    "regressor1 = np.array([[0,0,0,0,0,0,0]])\n",
    "regressor2 = np.array([[1,1,1,1,1,1,1]])\n",
    "survival_1 = cf.predict_survival_function(regressor1)\n",
    "survival_2 = cf.predict_survival_function(regressor2)\n",
    "plt.plot(survival_1,label = \"All zeros\")\n",
    "plt.plot(survival_2,label = \"All ones\")\n",
    "plt.legend()"
   ]
  },
  {
   "cell_type": "code",
   "execution_count": null,
   "metadata": {
    "collapsed": false
   },
   "outputs": [],
   "source": [
    "#Difference in survival \n",
    "odds = survival_1 / survival_2\n",
    "plt.plot(odds, c = \"red\")"
   ]
  },
  {
   "cell_type": "markdown",
   "metadata": {},
   "source": [
    "Model selection\n",
    "\n",
    "Difficult to do with classic tools (here)\n",
    "\n",
    "Problem:\n",
    "\n",
    "    1 - Calculate the BMA coefficient values\n",
    "\n",
    "    2 - Compare these results to past the lifelines results"
   ]
  },
  {
   "cell_type": "code",
   "execution_count": null,
   "metadata": {
    "collapsed": false
   },
   "outputs": [],
   "source": [
    "bmaCox = CoxPH(data, \"week\", \"arrest\")\n",
    "coefficient, se = bmaCox.run()"
   ]
  },
  {
   "cell_type": "code",
   "execution_count": null,
   "metadata": {
    "collapsed": false
   },
   "outputs": [],
   "source": [
    "print(coefficient)"
   ]
  },
  {
   "cell_type": "code",
   "execution_count": null,
   "metadata": {
    "collapsed": false
   },
   "outputs": [],
   "source": [
    "difference = coefficient - cf.summary[\"coef\"]\n",
    "print(difference)\n",
    "print(\"Most very close, some significantly out (because no leaps and jumps)\")"
   ]
  }
 ],
 "metadata": {
  "kernelspec": {
   "display_name": "Python 3",
   "language": "python",
   "name": "python3"
  },
  "language_info": {
   "codemirror_mode": {
    "name": "ipython",
    "version": 3
   },
   "file_extension": ".py",
   "mimetype": "text/x-python",
   "name": "python",
   "nbconvert_exporter": "python",
   "pygments_lexer": "ipython3",
   "version": "3.5.1"
  }
 },
 "nbformat": 4,
 "nbformat_minor": 0
}
