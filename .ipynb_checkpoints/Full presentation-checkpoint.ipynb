{
 "cells": [
  {
   "cell_type": "code",
   "execution_count": 14,
   "metadata": {
    "collapsed": true
   },
   "outputs": [],
   "source": [
    "import lifelines\n",
    "import pymc\n",
    "import pyBMA\n",
    "import matplotlib.pyplot as plt\n",
    "import numpy as np\n",
    "%matplotlib inline  "
   ]
  },
  {
   "cell_type": "code",
   "execution_count": 3,
   "metadata": {
    "collapsed": true
   },
   "outputs": [],
   "source": [
    "#Extracting and formatting data"
   ]
  },
  {
   "cell_type": "code",
   "execution_count": 8,
   "metadata": {
    "collapsed": false
   },
   "outputs": [],
   "source": [
    "data = lifelines.datasets.load_rossi()"
   ]
  },
  {
   "cell_type": "code",
   "execution_count": 4,
   "metadata": {
    "collapsed": true
   },
   "outputs": [],
   "source": [
    "#Playing with the distribution"
   ]
  },
  {
   "cell_type": "code",
   "execution_count": 5,
   "metadata": {
    "collapsed": true
   },
   "outputs": [],
   "source": [
    "#Cox model"
   ]
  },
  {
   "cell_type": "markdown",
   "metadata": {},
   "source": [
    "If we want to look at covariates, we need a new approach.  We'll use Cox proprtional hazards.  More information here."
   ]
  },
  {
   "cell_type": "code",
   "execution_count": 21,
   "metadata": {
    "collapsed": false
   },
   "outputs": [
    {
     "name": "stderr",
     "output_type": "stream",
     "text": [
      "C:\\Users\\j.coltman\\AppData\\Local\\Continuum\\Anaconda3\\lib\\site-packages\\lifelines\\fitters\\coxph_fitter.py:285: FutureWarning: sort(columns=....) is deprecated, use sort_values(by=.....)\n",
      "  df.sort(duration_col, inplace=True)\n"
     ]
    },
    {
     "data": {
      "text/plain": [
       "<lifelines.CoxPHFitter: fitted with 432 observations, 318 censored>"
      ]
     },
     "execution_count": 21,
     "metadata": {},
     "output_type": "execute_result"
    }
   ],
   "source": [
    "#Fitting solution\n",
    "cf = lifelines.CoxPHFitter()\n",
    "cf.fit(data, 'week', event_col = 'arrest')"
   ]
  },
  {
   "cell_type": "code",
   "execution_count": 25,
   "metadata": {
    "collapsed": false
   },
   "outputs": [
    {
     "name": "stdout",
     "output_type": "stream",
     "text": [
      "Survival is the 1 - Cumulative hazard\n"
     ]
    },
    {
     "data": {
      "image/png": "[encoded data removed]",
      "text/plain": [
       "<matplotlib.figure.Figure at 0x5bd95d2128>"
      ]
     },
     "metadata": {},
     "output_type": "display_data"
    }
   ],
   "source": [
    "#Solution to 1\n",
    "fig, axes = plt.subplots(nrows=1, ncols=2, sharex=True, sharey = True)\n",
    "cf.baseline_cumulative_hazard_.plot(ax = axes[0], title = \"Baseline Cumulative Hazard\")\n",
    "cf.baseline_survival_.plot(ax = axes[1], title = \"Baseline Survival\")\n",
    "print(\"Survival is the 1 - Cumulative hazard\")"
   ]
  },
  {
   "cell_type": "markdown",
   "metadata": {},
   "source": [
    "Once we've fit the data, we need to do something useful with it.  Try to do the following things:\n",
    "\n",
    "1 - Plot the cumulative baseline hazard and survival function\n",
    "        \n",
    "        What relation do these have?\n",
    "        \n",
    "2 - Predict the functions for a particular set of regressors\n",
    "\n",
    "3 - Plot the survival function for two different set of regressors"
   ]
  },
  {
   "cell_type": "code",
   "execution_count": 17,
   "metadata": {
    "collapsed": false
   },
   "outputs": [],
   "source": [
    "# Solution to prediction\n",
    "regressors = np.array([[0,0,0,0,0,0,0]])\n",
    "survival = cf.predict_survival_function(regressors)"
   ]
  },
  {
   "cell_type": "code",
   "execution_count": 20,
   "metadata": {
    "collapsed": false
   },
   "outputs": [
    {
     "data": {
      "text/plain": [
       "<matplotlib.axes._subplots.AxesSubplot at 0x5bd955c860>"
      ]
     },
     "execution_count": 20,
     "metadata": {},
     "output_type": "execute_result"
    },
    {
     "data": {
      "image/png": "[encoded data removed]",
      "text/plain": [
       "<matplotlib.figure.Figure at 0x5bd984a0f0>"
      ]
     },
     "metadata": {},
     "output_type": "display_data"
    }
   ],
   "source": [
    "#Solution to plotting multiple regressors\n",
    "fig, axis = plt.subplots(nrows=1, ncols=2, sharex=True)\n",
    "regressor1 = np.array([[0,0,0,0,0,0,0]])\n",
    "regressor2 = np.array([[1,1,1,1,1,1,1]])\n",
    "survival_1 = cf.predict_survival_function(regressor1)\n",
    "survival_2 = cf.predict_survival_function(regressor2)\n",
    "survival_1.plot(ax = axes[0], title = \"Baseline Cumulative Hazard\")\n",
    "survival_2.plot(ax = axes[1], title = \"Baseline Cumulative Hazard\")"
   ]
  },
  {
   "cell_type": "code",
   "execution_count": 6,
   "metadata": {
    "collapsed": true
   },
   "outputs": [],
   "source": [
    "#Bayesian cox"
   ]
  },
  {
   "cell_type": "code",
   "execution_count": null,
   "metadata": {
    "collapsed": true
   },
   "outputs": [],
   "source": []
  }
 ],
 "metadata": {
  "kernelspec": {
   "display_name": "Python 3",
   "language": "python",
   "name": "python3"
  },
  "language_info": {
   "codemirror_mode": {
    "name": "ipython",
    "version": 3
   },
   "file_extension": ".py",
   "mimetype": "text/x-python",
   "name": "python",
   "nbconvert_exporter": "python",
   "pygments_lexer": "ipython3",
   "version": "3.5.1"
  }
 },
 "nbformat": 4,
 "nbformat_minor": 0
}
