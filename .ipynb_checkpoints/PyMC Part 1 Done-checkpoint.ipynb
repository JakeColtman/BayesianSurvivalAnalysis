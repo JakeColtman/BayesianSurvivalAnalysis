{
 "cells": [
  {
   "cell_type": "code",
   "execution_count": 2,
   "metadata": {
    "collapsed": true
   },
   "outputs": [],
   "source": [
    "import lifelines\n",
    "import pymc as pm\n",
    "from pyBMA.CoxPHFitter import CoxPHFitter\n",
    "import matplotlib.pyplot as plt\n",
    "import numpy as np\n",
    "from numpy import log\n",
    "from datetime import datetime\n",
    "import pandas as pd\n",
    "%matplotlib inline  "
   ]
  },
  {
   "cell_type": "markdown",
   "metadata": {},
   "source": [
    "The first step in any data analysis is acquiring and munging the data\n",
    "\n",
    "Our starting data set can be found here:\n",
    "   http://jakecoltman.com in the pyData post\n",
    "\n",
    "It is designed to be roughly similar to the output from DCM's path to conversion\n",
    "\n",
    "Download the file and transform it into something with the columns:\n",
    "\n",
    "   id,lifetime,age,male,event,search,brand\n",
    "   \n",
    "where lifetime is the total time that we observed someone not convert for and event should be 1 if we see a conversion and 0 if we don't.  Note that all values should be converted into ints\n",
    "\n",
    "It is useful to note that end_date = datetime.datetime(2016, 5, 3, 20, 36, 8, 92165)\n",
    "\n"
   ]
  },
  {
   "cell_type": "code",
   "execution_count": 6,
   "metadata": {
    "collapsed": false
   },
   "outputs": [],
   "source": [
    "running_id = 0\n",
    "output = [[0]]\n",
    "with open(\"E:/output.txt\") as file_open:\n",
    "    for row in file_open.read().split(\"\\n\"):\n",
    "        cols = row.split(\",\")\n",
    "        if cols[0] == output[-1][0]:\n",
    "            output[-1].append(cols[1])\n",
    "            output[-1].append(True)\n",
    "        else:\n",
    "            output.append(cols)\n",
    "    output = output[1:]\n",
    "    \n",
    "for row in output:\n",
    "    if len(row) == 6:\n",
    "        row += [datetime(2016, 5, 3, 20, 36, 8, 92165), False]\n",
    "output = output[1:-1]"
   ]
  },
  {
   "cell_type": "code",
   "execution_count": 7,
   "metadata": {
    "collapsed": false
   },
   "outputs": [
    {
     "data": {
      "text/plain": [
       "male         0.000000\n",
       "age         38.000000\n",
       "search       1.000000\n",
       "brand        0.000000\n",
       "event        1.000000\n",
       "lifetime    15.951596\n",
       "dtype: float64"
      ]
     },
     "execution_count": 7,
     "metadata": {},
     "output_type": "execute_result"
    }
   ],
   "source": [
    "def convert_to_days(dt):\n",
    "    day_diff = dt / np.timedelta64(1, 'D')\n",
    "    if day_diff == 0:\n",
    "        return 23.0\n",
    "    else: \n",
    "        return day_diff\n",
    "\n",
    "df = pd.DataFrame(output, columns=[\"id\", \"advert_time\", \"male\",\"age\",\"search\",\"brand\",\"conversion_time\",\"event\"])\n",
    "df[\"lifetime\"] = pd.to_datetime(df[\"conversion_time\"]) - pd.to_datetime(df[\"advert_time\"])\n",
    "df[\"lifetime\"] = df[\"lifetime\"].apply(convert_to_days)\n",
    "df[\"male\"] = df[\"male\"].astype(int)\n",
    "df[\"search\"] = df[\"search\"].astype(int)\n",
    "df[\"brand\"] = df[\"brand\"].astype(int)\n",
    "df[\"age\"] = df[\"age\"].astype(int)\n",
    "df[\"event\"] = df[\"event\"].astype(int)\n",
    "df = df.drop('advert_time', 1)\n",
    "df = df.drop('conversion_time', 1)\n",
    "df = df.set_index(\"id\")\n",
    "df = df.dropna(thresh=2)\n",
    "df.median()"
   ]
  },
  {
   "cell_type": "code",
   "execution_count": null,
   "metadata": {
    "collapsed": true
   },
   "outputs": [],
   "source": [
    "###Parametric Bayes\n",
    "#Shout out to Cam Davidson-Pilon"
   ]
  },
  {
   "cell_type": "code",
   "execution_count": 3,
   "metadata": {
    "collapsed": false
   },
   "outputs": [
    {
     "name": "stdout",
     "output_type": "stream",
     "text": [
      " [-----------      29%                  ] 14864 of 50000 complete in 21.5 secHalting at iteration  14874  of  50000\n"
     ]
    }
   ],
   "source": [
    "## Example fully worked model using toy data\n",
    "## Adapted from http://blog.yhat.com/posts/estimating-user-lifetimes-with-pymc.html\n",
    "## Note that we've made some corrections \n",
    "\n",
    "N = 2500\n",
    "\n",
    "##Generate some random data \n",
    "lifetime = pm.rweibull( 2, 5, size = N )\n",
    "birth = pm.runiform(0, 10, N)\n",
    "censor = ((birth + lifetime) >= 10)\n",
    "lifetime_ = lifetime.copy()\n",
    "lifetime_[censor] = 10 - birth[censor]\n",
    "\n",
    "\n",
    "alpha = pm.Uniform('alpha', 0, 20)\n",
    "beta = pm.Uniform('beta', 0, 20)\n",
    "\n",
    "@pm.observed\n",
    "def survival(value=lifetime_, alpha = alpha, beta = beta ):\n",
    "    return sum( (1-censor)*(log( alpha/beta) + (alpha-1)*log(value/beta)) - (value/beta)**(alpha))\n",
    "\n",
    "mcmc = pm.MCMC([alpha, beta, survival ] )\n",
    "mcmc.sample(50000, 30000)"
   ]
  },
  {
   "cell_type": "code",
   "execution_count": null,
   "metadata": {
    "collapsed": false
   },
   "outputs": [],
   "source": [
    "pm.Matplot.plot(mcmc)\n",
    "mcmc.trace(\"alpha\")[:]"
   ]
  },
  {
   "cell_type": "markdown",
   "metadata": {},
   "source": [
    "Problems: \n",
    "\n",
    "    1 - Try to fit your data from section 1 \n",
    "    2 - Use the results to plot the distribution of the median\n",
    "    \n",
    "Note that the media of a Weibull distribution is:\n",
    "$$β(log 2)^{1/α}$$    "
   ]
  },
  {
   "cell_type": "code",
   "execution_count": 8,
   "metadata": {
    "collapsed": false
   },
   "outputs": [
    {
     "name": "stdout",
     "output_type": "stream",
     "text": [
      " [-----------------100%-----------------] 10000 of 10000 complete in 16.9 sec"
     ]
    }
   ],
   "source": [
    "censor = np.array(df[\"event\"].apply(lambda x: 0 if x else 1).tolist())\n",
    "alpha = pm.Uniform(\"alpha\", 0,50) \n",
    "beta = pm.Uniform(\"beta\", 0,50) \n",
    "\n",
    "@pm.observed\n",
    "def survival(value=df[\"lifetime\"], alpha = alpha, beta = beta ):\n",
    "    return sum( (1-censor)*(np.log( alpha/beta) + (alpha-1)*np.log(value/beta)) - (value/beta)**(alpha))\n",
    "\n",
    "\n",
    "mcmc = pm.MCMC([alpha, beta, survival ] )\n",
    "mcmc.sample(10000)"
   ]
  },
  {
   "cell_type": "code",
   "execution_count": 9,
   "metadata": {
    "collapsed": false
   },
   "outputs": [
    {
     "data": {
      "text/plain": [
       "(array([  3.45300000e+03,   6.52100000e+03,   5.00000000e+00,\n",
       "          4.00000000e+00,   0.00000000e+00,   3.00000000e+00,\n",
       "          2.00000000e+00,   0.00000000e+00,   0.00000000e+00,\n",
       "          1.20000000e+01]),\n",
       " array([ 14.13649545,  15.6151303 ,  17.09376516,  18.57240001,\n",
       "         20.05103486,  21.52966972,  23.00830457,  24.48693942,\n",
       "         25.96557427,  27.44420913,  28.92284398]),\n",
       " <a list of 10 Patch objects>)"
      ]
     },
     "execution_count": 9,
     "metadata": {},
     "output_type": "execute_result"
    },
    {
     "data": {
      "image/png": "[encoded data removed]",
      "text/plain": [
       "<matplotlib.figure.Figure at 0x1d6cde4208>"
      ]
     },
     "metadata": {},
     "output_type": "display_data"
    }
   ],
   "source": [
    "def weibull_median(alpha, beta):\n",
    "    return beta * ((log(2)) ** ( 1 / alpha))\n",
    "plt.hist([weibull_median(x[0], x[1]) for x in zip(mcmc.trace(\"alpha\"), mcmc.trace(\"beta\"))])"
   ]
  },
  {
   "cell_type": "markdown",
   "metadata": {
    "collapsed": false
   },
   "source": [
    "Problems:\n",
    "    \n",
    "    4 - Try adjusting the number of samples for burning and thinnning\n",
    "    5 - Try adjusting the prior and see how it affects the estimate    "
   ]
  },
  {
   "cell_type": "code",
   "execution_count": null,
   "metadata": {
    "collapsed": false
   },
   "outputs": [],
   "source": [
    "#### Adjust burn and thin, both paramters of the mcmc sample function"
   ]
  },
  {
   "cell_type": "code",
   "execution_count": 2,
   "metadata": {
    "collapsed": false
   },
   "outputs": [],
   "source": [
    "#### Narrow and broaden prior"
   ]
  },
  {
   "cell_type": "markdown",
   "metadata": {},
   "source": [
    "Problems:\n",
    "    \n",
    "    7 - Try testing whether the median is greater than a different values"
   ]
  },
  {
   "cell_type": "code",
   "execution_count": null,
   "metadata": {
    "collapsed": false
   },
   "outputs": [],
   "source": [
    "#### Hypothesis testing"
   ]
  },
  {
   "cell_type": "markdown",
   "metadata": {},
   "source": [
    "If we want to look at covariates, we need a new approach.  \n",
    "\n",
    "We'll use Cox proprtional hazards, a very popular regression model.\n",
    "\n",
    "To fit in python we use the module lifelines:\n",
    "\n",
    "http://lifelines.readthedocs.io/en/latest/"
   ]
  },
  {
   "cell_type": "code",
   "execution_count": 3,
   "metadata": {
    "collapsed": false
   },
   "outputs": [],
   "source": [
    "### Fit a cox proprtional hazards model"
   ]
  },
  {
   "cell_type": "markdown",
   "metadata": {},
   "source": [
    "Once we've fit the data, we need to do something useful with it.  Try to do the following things:\n",
    "\n",
    "    1 - Plot the baseline survival function\n",
    "\n",
    "    2 - Predict the functions for a particular set of features\n",
    "\n",
    "    3 - Plot the survival function for two different set of features\n",
    "\n",
    "    4 - For your results in part 3 caculate how much more likely a death event is for one than the other for a given period of time"
   ]
  },
  {
   "cell_type": "code",
   "execution_count": 4,
   "metadata": {
    "collapsed": false
   },
   "outputs": [],
   "source": [
    "#### Plot baseline hazard function"
   ]
  },
  {
   "cell_type": "code",
   "execution_count": null,
   "metadata": {
    "collapsed": false
   },
   "outputs": [],
   "source": [
    "#### Predict"
   ]
  },
  {
   "cell_type": "code",
   "execution_count": null,
   "metadata": {
    "collapsed": false
   },
   "outputs": [],
   "source": [
    "#### Plot survival functions for different covariates"
   ]
  },
  {
   "cell_type": "code",
   "execution_count": null,
   "metadata": {
    "collapsed": false
   },
   "outputs": [],
   "source": [
    "#### Plot some odds"
   ]
  },
  {
   "cell_type": "markdown",
   "metadata": {},
   "source": [
    "Model selection\n",
    "\n",
    "Difficult to do with classic tools (here)\n",
    "\n",
    "Problem:\n",
    "\n",
    "    1 - Calculate the BMA coefficient values\n",
    "    \n",
    "    2 - Try running with different priors"
   ]
  },
  {
   "cell_type": "code",
   "execution_count": null,
   "metadata": {
    "collapsed": false
   },
   "outputs": [],
   "source": [
    "#### BMA Coefficient values"
   ]
  },
  {
   "cell_type": "code",
   "execution_count": null,
   "metadata": {
    "collapsed": false
   },
   "outputs": [],
   "source": [
    "#### Different priors"
   ]
  }
 ],
 "metadata": {
  "kernelspec": {
   "display_name": "Python 3",
   "language": "python",
   "name": "python3"
  },
  "language_info": {
   "codemirror_mode": {
    "name": "ipython",
    "version": 3
   },
   "file_extension": ".py",
   "mimetype": "text/x-python",
   "name": "python",
   "nbconvert_exporter": "python",
   "pygments_lexer": "ipython3",
   "version": "3.5.1"
  }
 },
 "nbformat": 4,
 "nbformat_minor": 0
}
