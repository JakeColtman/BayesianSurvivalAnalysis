{
 "cells": [
  {
   "cell_type": "code",
   "execution_count": 11,
   "metadata": {
    "collapsed": true
   },
   "outputs": [],
   "source": [
    "import lifelines\n",
    "import pymc as pm\n",
    "from pyBMA.CoxPHFitter import CoxPHFitter\n",
    "import matplotlib.pyplot as plt\n",
    "import numpy as np\n",
    "from numpy import log\n",
    "from datetime import datetime\n",
    "import pandas as pd\n",
    "%matplotlib inline  "
   ]
  },
  {
   "cell_type": "markdown",
   "metadata": {},
   "source": [
    "The first step in any data analysis is acquiring and munging the data\n",
    "\n",
    "Our starting data set can be found here:\n",
    "   http://jakecoltman.com in the pyData post\n",
    "\n",
    "It is designed to be roughly similar to the output from DCM's path to conversion\n",
    "\n",
    "Download the file and transform it into something with the columns:\n",
    "\n",
    "   id,lifetime,age,male,event,search,brand\n",
    "   \n",
    "where lifetime is the total time that we observed someone not convert for and event should be 1 if we see a conversion and 0 if we don't.  Note that all values should be converted into ints\n",
    "\n",
    "It is useful to note that end_date = datetime.datetime(2016, 5, 3, 20, 36, 8, 92165)\n",
    "\n"
   ]
  },
  {
   "cell_type": "code",
   "execution_count": null,
   "metadata": {
    "collapsed": false
   },
   "outputs": [],
   "source": [
    "####Data munging here"
   ]
  },
  {
   "cell_type": "code",
   "execution_count": null,
   "metadata": {
    "collapsed": true
   },
   "outputs": [],
   "source": [
    "###Parametric Bayes\n",
    "#Shout out to Cam Davidson-Pilon"
   ]
  },
  {
   "cell_type": "code",
   "execution_count": 14,
   "metadata": {
    "collapsed": false
   },
   "outputs": [
    {
     "name": "stdout",
     "output_type": "stream",
     "text": [
      " [-----------------100%-----------------] 50000 of 50000 complete in 78.1 sec"
     ]
    }
   ],
   "source": [
    "## Example fully worked model using toy data\n",
    "## Adapted from http://blog.yhat.com/posts/estimating-user-lifetimes-with-pymc.html\n",
    "## Note that we've made some corrections \n",
    "\n",
    "N = 2500\n",
    "\n",
    "##Generate some random data \n",
    "lifetime = pm.rweibull( 2, 5, size = N )\n",
    "birth = pm.runiform(0, 10, N)\n",
    "censor = ((birth + lifetime) >= 10)\n",
    "lifetime_ = lifetime.copy()\n",
    "lifetime_[censor] = 10 - birth[censor]\n",
    "\n",
    "\n",
    "alpha = pm.Uniform('alpha', 0, 20)\n",
    "beta = pm.Uniform('beta', 0, 20)\n",
    "\n",
    "@pm.observed\n",
    "def survival(value=lifetime_, alpha = alpha, beta = beta ):\n",
    "    return sum( (1-censor)*(log( alpha/beta) + (alpha-1)*log(value/beta)) - (value/beta)**(alpha))\n",
    "\n",
    "mcmc = pm.MCMC([alpha, beta, survival ] )\n",
    "mcmc.sample(50000, 30000)"
   ]
  },
  {
   "cell_type": "code",
   "execution_count": null,
   "metadata": {
    "collapsed": false
   },
   "outputs": [],
   "source": [
    "pm.Matplot.plot(mcmc)\n",
    "mcmc.trace(\"alpha\")[:]"
   ]
  },
  {
   "cell_type": "markdown",
   "metadata": {},
   "source": [
    "Problems: \n",
    "\n",
    "    1 - Try to fit your data from section 1 \n",
    "    2 - Use the results to plot the distribution of the median\n",
    "    \n",
    "Note that the media of a Weibull distribution is:\n",
    "$$β(log 2)^{1/α}$$    "
   ]
  },
  {
   "cell_type": "code",
   "execution_count": 1,
   "metadata": {
    "collapsed": true
   },
   "outputs": [],
   "source": [
    "#### Fit to your data here"
   ]
  },
  {
   "cell_type": "code",
   "execution_count": null,
   "metadata": {
    "collapsed": true
   },
   "outputs": [],
   "source": [
    "#### Plot the distribution of the median"
   ]
  },
  {
   "cell_type": "markdown",
   "metadata": {
    "collapsed": false
   },
   "source": [
    "Problems:\n",
    "    \n",
    "    4 - Try adjusting the number of samples for burning and thinnning\n",
    "    5 - Try adjusting the prior and see how it affects the estimate    "
   ]
  },
  {
   "cell_type": "code",
   "execution_count": null,
   "metadata": {
    "collapsed": false
   },
   "outputs": [],
   "source": [
    "#### Adjust burn and thin, both paramters of the mcmc sample function"
   ]
  },
  {
   "cell_type": "code",
   "execution_count": 2,
   "metadata": {
    "collapsed": false
   },
   "outputs": [],
   "source": [
    "#### Narrow and broaden prior"
   ]
  },
  {
   "cell_type": "markdown",
   "metadata": {},
   "source": [
    "Problems:\n",
    "    \n",
    "    7 - Try testing whether the median is greater than a different values"
   ]
  },
  {
   "cell_type": "code",
   "execution_count": null,
   "metadata": {
    "collapsed": false
   },
   "outputs": [],
   "source": [
    "#### Hypothesis testing"
   ]
  },
  {
   "cell_type": "markdown",
   "metadata": {},
   "source": [
    "If we want to look at covariates, we need a new approach.  \n",
    "\n",
    "We'll use Cox proprtional hazards, a very popular regression model.\n",
    "\n",
    "To fit in python we use the module lifelines:\n",
    "\n",
    "http://lifelines.readthedocs.io/en/latest/"
   ]
  },
  {
   "cell_type": "code",
   "execution_count": 3,
   "metadata": {
    "collapsed": false
   },
   "outputs": [],
   "source": [
    "### Fit a cox proprtional hazards model"
   ]
  },
  {
   "cell_type": "markdown",
   "metadata": {},
   "source": [
    "Once we've fit the data, we need to do something useful with it.  Try to do the following things:\n",
    "\n",
    "    1 - Plot the baseline survival function\n",
    "\n",
    "    2 - Predict the functions for a particular set of features\n",
    "\n",
    "    3 - Plot the survival function for two different set of features\n",
    "\n",
    "    4 - For your results in part 3 caculate how much more likely a death event is for one than the other for a given period of time"
   ]
  },
  {
   "cell_type": "code",
   "execution_count": 4,
   "metadata": {
    "collapsed": false
   },
   "outputs": [],
   "source": [
    "#### Plot baseline hazard function"
   ]
  },
  {
   "cell_type": "code",
   "execution_count": null,
   "metadata": {
    "collapsed": false
   },
   "outputs": [],
   "source": [
    "#### Predict"
   ]
  },
  {
   "cell_type": "code",
   "execution_count": null,
   "metadata": {
    "collapsed": false
   },
   "outputs": [],
   "source": [
    "#### Plot survival functions for different covariates"
   ]
  },
  {
   "cell_type": "code",
   "execution_count": null,
   "metadata": {
    "collapsed": false
   },
   "outputs": [],
   "source": [
    "#### Plot some odds"
   ]
  },
  {
   "cell_type": "markdown",
   "metadata": {},
   "source": [
    "Model selection\n",
    "\n",
    "Difficult to do with classic tools (here)\n",
    "\n",
    "Problem:\n",
    "\n",
    "    1 - Calculate the BMA coefficient values\n",
    "    \n",
    "    2 - Try running with different priors"
   ]
  },
  {
   "cell_type": "code",
   "execution_count": null,
   "metadata": {
    "collapsed": false
   },
   "outputs": [],
   "source": [
    "#### BMA Coefficient values"
   ]
  },
  {
   "cell_type": "code",
   "execution_count": null,
   "metadata": {
    "collapsed": false
   },
   "outputs": [],
   "source": [
    "#### Different priors"
   ]
  }
 ],
 "metadata": {
  "kernelspec": {
   "display_name": "Python 3",
   "language": "python",
   "name": "python3"
  },
  "language_info": {
   "codemirror_mode": {
    "name": "ipython",
    "version": 3
   },
   "file_extension": ".py",
   "mimetype": "text/x-python",
   "name": "python",
   "nbconvert_exporter": "python",
   "pygments_lexer": "ipython3",
   "version": "3.5.1"
  }
 },
 "nbformat": 4,
 "nbformat_minor": 0
}
